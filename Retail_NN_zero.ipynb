{
  "nbformat": 4,
  "nbformat_minor": 0,
  "metadata": {
    "colab": {
      "name": "Retail_NN_zero.ipynb",
      "provenance": [],
      "collapsed_sections": [],
      "include_colab_link": true
    },
    "kernelspec": {
      "name": "python3",
      "display_name": "Python 3"
    },
    "accelerator": "TPU"
  },
  "cells": [
    {
      "cell_type": "markdown",
      "metadata": {
        "id": "view-in-github",
        "colab_type": "text"
      },
      "source": [
        "<a href=\"https://colab.research.google.com/github/Aviral-Aggarwal/Retail_models/blob/master/Retail_NN_zero.ipynb\" target=\"_parent\"><img src=\"https://colab.research.google.com/assets/colab-badge.svg\" alt=\"Open In Colab\"/></a>"
      ]
    },
    {
      "cell_type": "code",
      "metadata": {
        "id": "CqEnJXZBbr1A",
        "colab_type": "code",
        "colab": {
          "base_uri": "https://localhost:8080/",
          "height": 124
        },
        "outputId": "e1bf41be-7d6b-47ae-bc10-d6b08240da56"
      },
      "source": [
        "from google.colab import drive\n",
        "drive.mount('/content/gdrive')"
      ],
      "execution_count": 1,
      "outputs": [
        {
          "output_type": "stream",
          "text": [
            "Go to this URL in a browser: https://accounts.google.com/o/oauth2/auth?client_id=947318989803-6bn6qk8qdgf4n4g3pfee6491hc0brc4i.apps.googleusercontent.com&redirect_uri=urn%3aietf%3awg%3aoauth%3a2.0%3aoob&scope=email%20https%3a%2f%2fwww.googleapis.com%2fauth%2fdocs.test%20https%3a%2f%2fwww.googleapis.com%2fauth%2fdrive%20https%3a%2f%2fwww.googleapis.com%2fauth%2fdrive.photos.readonly%20https%3a%2f%2fwww.googleapis.com%2fauth%2fpeopleapi.readonly&response_type=code\n",
            "\n",
            "Enter your authorization code:\n",
            "··········\n",
            "Mounted at /content/gdrive\n"
          ],
          "name": "stdout"
        }
      ]
    },
    {
      "cell_type": "markdown",
      "metadata": {
        "id": "s1XbFP93ZVtO",
        "colab_type": "text"
      },
      "source": [
        "# New Section"
      ]
    },
    {
      "cell_type": "code",
      "metadata": {
        "id": "vzBQ0tbYb2xn",
        "colab_type": "code",
        "colab": {}
      },
      "source": [
        "import numpy as np\n",
        "import pandas as pd\n",
        "import os, sys, gc, time, warnings, pickle, psutil, random\n",
        "\n",
        "from sklearn.preprocessing import LabelEncoder, StandardScaler, MinMaxScaler\n",
        "warnings.filterwarnings('ignore')"
      ],
      "execution_count": 2,
      "outputs": []
    },
    {
      "cell_type": "code",
      "metadata": {
        "id": "gqN1ShpkcM5C",
        "colab_type": "code",
        "colab": {}
      },
      "source": [
        "input_dir = '/content/gdrive/My Drive/m5-forecasting-accuracy/'\n",
        "\n",
        "#CHECK AGAIN HOW THIS IS WORKING, IS IT ZIP MECHANISM OR SOMETHING ELSE\n",
        "#Standard function, copied from stack exchange\n",
        "def reduce_mem_usage(df, verbose=False):\n",
        "    numerics = ['int16', 'int32', 'int64', 'float16', 'float32', 'float64']\n",
        "    start_mem = df.memory_usage().sum() / 1024**2    \n",
        "    for col in df.columns:\n",
        "        col_type = df[col].dtypes\n",
        "        if col_type in numerics: \n",
        "            c_min = df[col].min()\n",
        "            c_max = df[col].max()\n",
        "            if str(col_type)[:3] == 'int':\n",
        "                if c_min > np.iinfo(np.int8).min and c_max < np.iinfo(np.int8).max:\n",
        "                    df[col] = df[col].astype(np.int8)\n",
        "                elif c_min > np.iinfo(np.int16).min and c_max < np.iinfo(np.int16).max:\n",
        "                    df[col] = df[col].astype(np.int16)\n",
        "                elif c_min > np.iinfo(np.int32).min and c_max < np.iinfo(np.int32).max:\n",
        "                    df[col] = df[col].astype(np.int32)\n",
        "                elif c_min > np.iinfo(np.int64).min and c_max < np.iinfo(np.int64).max:\n",
        "                    df[col] = df[col].astype(np.int64)  \n",
        "            else:\n",
        "                if c_min > np.finfo(np.float16).min and c_max < np.finfo(np.float16).max:\n",
        "                    df[col] = df[col].astype(np.float16)\n",
        "                elif c_min > np.finfo(np.float32).min and c_max < np.finfo(np.float32).max:\n",
        "                    df[col] = df[col].astype(np.float32)\n",
        "                else:\n",
        "                    df[col] = df[col].astype(np.float64)    \n",
        "    end_mem = df.memory_usage().sum() / 1024**2\n",
        "    if verbose: print('Mem. usage decreased to {:5.2f} Mb ({:.1f}% reduction)'.format(end_mem, 100 * (start_mem - end_mem) / start_mem))\n",
        "    return df"
      ],
      "execution_count": 3,
      "outputs": []
    },
    {
      "cell_type": "code",
      "metadata": {
        "id": "9LqBc4AKcP0f",
        "colab_type": "code",
        "colab": {}
      },
      "source": [
        "def load_df(file_path):\n",
        "    t1 = time.time()\n",
        "    df = pd.read_csv(file_path)\n",
        "    df = reduce_mem_usage(df=df, verbose=True)\n",
        "    print('The shape of data frame is ', df.shape)\n",
        "    t2 = time.time()\n",
        "    print('\\nTime taken to load the DataFrame is:', (t2-t1))\n",
        "    return df"
      ],
      "execution_count": 4,
      "outputs": []
    },
    {
      "cell_type": "code",
      "metadata": {
        "id": "VYo6YNbwcWZP",
        "colab_type": "code",
        "colab": {
          "base_uri": "https://localhost:8080/",
          "height": 156
        },
        "outputId": "7ecb324d-c381-4cee-b98c-648ea6b3b360"
      },
      "source": [
        "train = load_df(input_dir + 'hobbies2_train.csv')\n",
        "test = load_df(input_dir + 'hobbies2_test.csv')"
      ],
      "execution_count": 5,
      "outputs": [
        {
          "output_type": "stream",
          "text": [
            "Mem. usage decreased to 173.65 Mb (71.5% reduction)\n",
            "The shape of data frame is  (2045946, 39)\n",
            "\n",
            "Time taken to load the DataFrame is: 9.219415187835693\n",
            "Mem. usage decreased to 26.15 Mb (31.4% reduction)\n",
            "The shape of data frame is  (128140, 39)\n",
            "\n",
            "Time taken to load the DataFrame is: 0.780364990234375\n"
          ],
          "name": "stdout"
        }
      ]
    },
    {
      "cell_type": "code",
      "metadata": {
        "id": "5-geoL_NMxCN",
        "colab_type": "code",
        "colab": {}
      },
      "source": [
        "train.drop(train.columns[0], axis=1, inplace=True)\n",
        "test.drop(test.columns[0], axis=1, inplace=True)"
      ],
      "execution_count": 6,
      "outputs": []
    },
    {
      "cell_type": "code",
      "metadata": {
        "id": "jRr_0hs2sMt2",
        "colab_type": "code",
        "colab": {}
      },
      "source": [
        "valid = test[test[\"month\"]<3]\n",
        "test = test[test[\"month\"]>=3]"
      ],
      "execution_count": 7,
      "outputs": []
    },
    {
      "cell_type": "code",
      "metadata": {
        "id": "dPW-yL8CM44H",
        "colab_type": "code",
        "colab": {}
      },
      "source": [
        "y_train = train['Quantity_sold']\n",
        "X_train = train.drop('Quantity_sold', axis=1)\n",
        "y_test = test['Quantity_sold']\n",
        "X_test = test.drop('Quantity_sold', axis=1)\n",
        "y_val = valid['Quantity_sold']\n",
        "X_val = valid.drop('Quantity_sold', axis=1)"
      ],
      "execution_count": 8,
      "outputs": []
    },
    {
      "cell_type": "code",
      "metadata": {
        "id": "Y8S3TAh1M9Xb",
        "colab_type": "code",
        "colab": {}
      },
      "source": [
        "del train\n",
        "del valid"
      ],
      "execution_count": 9,
      "outputs": []
    },
    {
      "cell_type": "markdown",
      "metadata": {
        "id": "nKcc0HpsNH6R",
        "colab_type": "text"
      },
      "source": [
        "I am doing the scaling before the label encoding and replacing NaN values, since I don't want those variables to be scaled "
      ]
    },
    {
      "cell_type": "code",
      "metadata": {
        "id": "0qjNQF-IM_y5",
        "colab_type": "code",
        "colab": {}
      },
      "source": [
        "from sklearn import preprocessing\n",
        "min_max_scaler = preprocessing.MinMaxScaler()"
      ],
      "execution_count": 10,
      "outputs": []
    },
    {
      "cell_type": "code",
      "metadata": {
        "id": "oiR3JynTOfAs",
        "colab_type": "code",
        "colab": {}
      },
      "source": [
        "cat_cols= ['item_id', 'store_id']\n",
        "num_cols= list( set(list(X_train.columns))-set(cat_cols) )"
      ],
      "execution_count": 11,
      "outputs": []
    },
    {
      "cell_type": "code",
      "metadata": {
        "id": "ZuxPGGl4PRQY",
        "colab_type": "code",
        "colab": {
          "base_uri": "https://localhost:8080/",
          "height": 34
        },
        "outputId": "3eeebb89-3cd1-4005-e901-14f655c35e54"
      },
      "source": [
        "len(num_cols)"
      ],
      "execution_count": 12,
      "outputs": [
        {
          "output_type": "execute_result",
          "data": {
            "text/plain": [
              "35"
            ]
          },
          "metadata": {
            "tags": []
          },
          "execution_count": 12
        }
      ]
    },
    {
      "cell_type": "code",
      "metadata": {
        "id": "kNvLe-naQKao",
        "colab_type": "code",
        "colab": {}
      },
      "source": [
        "#X_train[num_cols] = X_train[num_cols].fillna(X_train[num_cols].mean())\n",
        "#X_test[num_cols] = X_test[num_cols].fillna(X_test[num_cols].mean())"
      ],
      "execution_count": 13,
      "outputs": []
    },
    {
      "cell_type": "code",
      "metadata": {
        "id": "xpjJxoh-QKXf",
        "colab_type": "code",
        "colab": {}
      },
      "source": [
        "X_train.fillna(1000, inplace=True)\n",
        "X_test.fillna(1000, inplace=True)\n",
        "X_val.fillna(1000, inplace=True)"
      ],
      "execution_count": 14,
      "outputs": []
    },
    {
      "cell_type": "code",
      "metadata": {
        "id": "iKCaknGhORIM",
        "colab_type": "code",
        "colab": {}
      },
      "source": [
        "#X_train_scaled = min_max_scaler.fit_transform(X_train[num_cols])\n",
        "#X_test_scaled = min_max_scaler.fit_transform(X_test[num_cols])"
      ],
      "execution_count": 15,
      "outputs": []
    },
    {
      "cell_type": "code",
      "metadata": {
        "id": "_9tah4czPWnF",
        "colab_type": "code",
        "colab": {}
      },
      "source": [
        "#X_train_scaled.shape"
      ],
      "execution_count": 16,
      "outputs": []
    },
    {
      "cell_type": "code",
      "metadata": {
        "id": "_xxHqPgzPg2h",
        "colab_type": "code",
        "colab": {}
      },
      "source": [
        "from sklearn.preprocessing import LabelEncoder\n",
        "from collections import defaultdict\n",
        "def label_encoding(X):\n",
        "  d = defaultdict(LabelEncoder)\n",
        "  categorical_mask = (X.dtypes == object)\n",
        "  categorical_columns = X.columns[categorical_mask].tolist()\n",
        " \n",
        "  print(X[categorical_columns].head())\n",
        "\n",
        "  le = LabelEncoder()\n",
        "  for cat in categorical_columns:\n",
        "      le.fit(X[cat])\n",
        "      #print(le.classes_)\n",
        "      X[cat]=le.transform(X[cat])\n",
        "\n",
        "  print(X[categorical_columns].head())\n",
        "  return X"
      ],
      "execution_count": 17,
      "outputs": []
    },
    {
      "cell_type": "code",
      "metadata": {
        "id": "7DLv2SlsRDPN",
        "colab_type": "code",
        "colab": {
          "base_uri": "https://localhost:8080/",
          "height": 642
        },
        "outputId": "4fc217f2-3e9e-437e-d690-38bcedf5b23d"
      },
      "source": [
        "X_train = label_encoding(X_train)\n",
        "X_test = label_encoding(X_test)\n",
        "X_val = label_encoding(X_val)"
      ],
      "execution_count": 18,
      "outputs": [
        {
          "output_type": "stream",
          "text": [
            "         item_id store_id\n",
            "0  HOBBIES_2_001     CA_1\n",
            "1  HOBBIES_2_001     CA_1\n",
            "2  HOBBIES_2_001     CA_1\n",
            "3  HOBBIES_2_001     CA_1\n",
            "4  HOBBIES_2_001     CA_1\n",
            "   item_id  store_id\n",
            "0        0         0\n",
            "1        0         0\n",
            "2        0         0\n",
            "3        0         0\n",
            "4        0         0\n",
            "          item_id store_id\n",
            "31  HOBBIES_2_001     CA_1\n",
            "32  HOBBIES_2_001     CA_1\n",
            "33  HOBBIES_2_001     CA_1\n",
            "34  HOBBIES_2_001     CA_1\n",
            "35  HOBBIES_2_001     CA_1\n",
            "    item_id  store_id\n",
            "31        0         0\n",
            "32        0         0\n",
            "33        0         0\n",
            "34        0         0\n",
            "35        0         0\n",
            "         item_id store_id\n",
            "0  HOBBIES_2_001     CA_1\n",
            "1  HOBBIES_2_001     CA_1\n",
            "2  HOBBIES_2_001     CA_1\n",
            "3  HOBBIES_2_001     CA_1\n",
            "4  HOBBIES_2_001     CA_1\n",
            "   item_id  store_id\n",
            "0        0         0\n",
            "1        0         0\n",
            "2        0         0\n",
            "3        0         0\n",
            "4        0         0\n"
          ],
          "name": "stdout"
        }
      ]
    },
    {
      "cell_type": "markdown",
      "metadata": {
        "id": "j6k7HFW9SQW6",
        "colab_type": "text"
      },
      "source": [
        "I am especially changing the values of the year column to have better scaling operation, since they will be treated as proper continuous numerical variables"
      ]
    },
    {
      "cell_type": "code",
      "metadata": {
        "id": "VJXLelbDSA_6",
        "colab_type": "code",
        "colab": {}
      },
      "source": [
        "X_train['year'] -= 2010\n",
        "X_test['year'] -= 2010\n",
        "X_val['year'] -= 2010"
      ],
      "execution_count": 19,
      "outputs": []
    },
    {
      "cell_type": "code",
      "metadata": {
        "id": "JHSEyP5ZRScQ",
        "colab_type": "code",
        "colab": {}
      },
      "source": [
        "X_train[num_cols] = X_train[num_cols]/X_train[num_cols].max()\n",
        "X_test[num_cols] = X_test[num_cols]/X_test[num_cols].max()\n",
        "X_val[num_cols] = X_val[num_cols]/X_val[num_cols].max()"
      ],
      "execution_count": 20,
      "outputs": []
    },
    {
      "cell_type": "code",
      "metadata": {
        "id": "3Zt8q0X3R0iD",
        "colab_type": "code",
        "colab": {}
      },
      "source": [
        "X_train = X_train[X_train.columns[0:9]]\n",
        "X_val = X_val[X_val.columns[0:9]]\n",
        "X_test = X_test[X_test.columns[0:9]]"
      ],
      "execution_count": 21,
      "outputs": []
    },
    {
      "cell_type": "code",
      "metadata": {
        "id": "z9WAZuxDRHoh",
        "colab_type": "code",
        "colab": {
          "base_uri": "https://localhost:8080/",
          "height": 424
        },
        "outputId": "89771320-70f5-4f76-c22c-2c0dada72d67"
      },
      "source": [
        "X_train"
      ],
      "execution_count": 22,
      "outputs": [
        {
          "output_type": "execute_result",
          "data": {
            "text/html": [
              "<div>\n",
              "<style scoped>\n",
              "    .dataframe tbody tr th:only-of-type {\n",
              "        vertical-align: middle;\n",
              "    }\n",
              "\n",
              "    .dataframe tbody tr th {\n",
              "        vertical-align: top;\n",
              "    }\n",
              "\n",
              "    .dataframe thead th {\n",
              "        text-align: right;\n",
              "    }\n",
              "</style>\n",
              "<table border=\"1\" class=\"dataframe\">\n",
              "  <thead>\n",
              "    <tr style=\"text-align: right;\">\n",
              "      <th></th>\n",
              "      <th>item_id</th>\n",
              "      <th>store_id</th>\n",
              "      <th>sell_price</th>\n",
              "      <th>wday</th>\n",
              "      <th>month</th>\n",
              "      <th>year</th>\n",
              "      <th>mrp</th>\n",
              "      <th>discount</th>\n",
              "      <th>week_number</th>\n",
              "    </tr>\n",
              "  </thead>\n",
              "  <tbody>\n",
              "    <tr>\n",
              "      <th>0</th>\n",
              "      <td>0</td>\n",
              "      <td>0</td>\n",
              "      <td>0.548828</td>\n",
              "      <td>0.142857</td>\n",
              "      <td>0.083333</td>\n",
              "      <td>0.166667</td>\n",
              "      <td>0.548828</td>\n",
              "      <td>0.000000</td>\n",
              "      <td>0.075472</td>\n",
              "    </tr>\n",
              "    <tr>\n",
              "      <th>1</th>\n",
              "      <td>0</td>\n",
              "      <td>0</td>\n",
              "      <td>0.548828</td>\n",
              "      <td>0.285714</td>\n",
              "      <td>0.083333</td>\n",
              "      <td>0.166667</td>\n",
              "      <td>0.548828</td>\n",
              "      <td>0.000000</td>\n",
              "      <td>0.075472</td>\n",
              "    </tr>\n",
              "    <tr>\n",
              "      <th>2</th>\n",
              "      <td>0</td>\n",
              "      <td>0</td>\n",
              "      <td>0.548828</td>\n",
              "      <td>0.428571</td>\n",
              "      <td>0.083333</td>\n",
              "      <td>0.166667</td>\n",
              "      <td>0.548828</td>\n",
              "      <td>0.000000</td>\n",
              "      <td>0.094340</td>\n",
              "    </tr>\n",
              "    <tr>\n",
              "      <th>3</th>\n",
              "      <td>0</td>\n",
              "      <td>0</td>\n",
              "      <td>0.548828</td>\n",
              "      <td>0.571429</td>\n",
              "      <td>0.166667</td>\n",
              "      <td>0.166667</td>\n",
              "      <td>0.548828</td>\n",
              "      <td>0.000000</td>\n",
              "      <td>0.094340</td>\n",
              "    </tr>\n",
              "    <tr>\n",
              "      <th>4</th>\n",
              "      <td>0</td>\n",
              "      <td>0</td>\n",
              "      <td>0.548828</td>\n",
              "      <td>0.714286</td>\n",
              "      <td>0.166667</td>\n",
              "      <td>0.166667</td>\n",
              "      <td>0.548828</td>\n",
              "      <td>0.000000</td>\n",
              "      <td>0.094340</td>\n",
              "    </tr>\n",
              "    <tr>\n",
              "      <th>...</th>\n",
              "      <td>...</td>\n",
              "      <td>...</td>\n",
              "      <td>...</td>\n",
              "      <td>...</td>\n",
              "      <td>...</td>\n",
              "      <td>...</td>\n",
              "      <td>...</td>\n",
              "      <td>...</td>\n",
              "      <td>...</td>\n",
              "    </tr>\n",
              "    <tr>\n",
              "      <th>2045941</th>\n",
              "      <td>148</td>\n",
              "      <td>9</td>\n",
              "      <td>0.097351</td>\n",
              "      <td>0.428571</td>\n",
              "      <td>0.083333</td>\n",
              "      <td>1.000000</td>\n",
              "      <td>0.247803</td>\n",
              "      <td>0.208862</td>\n",
              "      <td>0.075472</td>\n",
              "    </tr>\n",
              "    <tr>\n",
              "      <th>2045942</th>\n",
              "      <td>148</td>\n",
              "      <td>9</td>\n",
              "      <td>0.097351</td>\n",
              "      <td>0.571429</td>\n",
              "      <td>0.083333</td>\n",
              "      <td>1.000000</td>\n",
              "      <td>0.247803</td>\n",
              "      <td>0.208862</td>\n",
              "      <td>0.075472</td>\n",
              "    </tr>\n",
              "    <tr>\n",
              "      <th>2045943</th>\n",
              "      <td>148</td>\n",
              "      <td>9</td>\n",
              "      <td>0.097351</td>\n",
              "      <td>0.714286</td>\n",
              "      <td>0.083333</td>\n",
              "      <td>1.000000</td>\n",
              "      <td>0.247803</td>\n",
              "      <td>0.208862</td>\n",
              "      <td>0.075472</td>\n",
              "    </tr>\n",
              "    <tr>\n",
              "      <th>2045944</th>\n",
              "      <td>148</td>\n",
              "      <td>9</td>\n",
              "      <td>0.097351</td>\n",
              "      <td>0.857143</td>\n",
              "      <td>0.083333</td>\n",
              "      <td>1.000000</td>\n",
              "      <td>0.247803</td>\n",
              "      <td>0.208862</td>\n",
              "      <td>0.075472</td>\n",
              "    </tr>\n",
              "    <tr>\n",
              "      <th>2045945</th>\n",
              "      <td>148</td>\n",
              "      <td>9</td>\n",
              "      <td>0.097351</td>\n",
              "      <td>1.000000</td>\n",
              "      <td>0.083333</td>\n",
              "      <td>1.000000</td>\n",
              "      <td>0.247803</td>\n",
              "      <td>0.208862</td>\n",
              "      <td>0.075472</td>\n",
              "    </tr>\n",
              "  </tbody>\n",
              "</table>\n",
              "<p>2045946 rows × 9 columns</p>\n",
              "</div>"
            ],
            "text/plain": [
              "         item_id  store_id  sell_price  ...       mrp  discount  week_number\n",
              "0              0         0    0.548828  ...  0.548828  0.000000     0.075472\n",
              "1              0         0    0.548828  ...  0.548828  0.000000     0.075472\n",
              "2              0         0    0.548828  ...  0.548828  0.000000     0.094340\n",
              "3              0         0    0.548828  ...  0.548828  0.000000     0.094340\n",
              "4              0         0    0.548828  ...  0.548828  0.000000     0.094340\n",
              "...          ...       ...         ...  ...       ...       ...          ...\n",
              "2045941      148         9    0.097351  ...  0.247803  0.208862     0.075472\n",
              "2045942      148         9    0.097351  ...  0.247803  0.208862     0.075472\n",
              "2045943      148         9    0.097351  ...  0.247803  0.208862     0.075472\n",
              "2045944      148         9    0.097351  ...  0.247803  0.208862     0.075472\n",
              "2045945      148         9    0.097351  ...  0.247803  0.208862     0.075472\n",
              "\n",
              "[2045946 rows x 9 columns]"
            ]
          },
          "metadata": {
            "tags": []
          },
          "execution_count": 22
        }
      ]
    },
    {
      "cell_type": "code",
      "metadata": {
        "id": "cgZMUzIXRspc",
        "colab_type": "code",
        "colab": {}
      },
      "source": [
        "import keras\n",
        "from keras.models import Sequential\n",
        "from keras.layers import Dense"
      ],
      "execution_count": 23,
      "outputs": []
    },
    {
      "cell_type": "code",
      "metadata": {
        "id": "vstrenf-TYQy",
        "colab_type": "code",
        "colab": {
          "base_uri": "https://localhost:8080/",
          "height": 399
        },
        "outputId": "46a3c8f5-717f-4d59-bb93-8db32e7e50f5"
      },
      "source": [
        "model = Sequential()\n",
        "model.add(Dense(128, input_dim=9, activation= \"relu\"))\n",
        "#model.add(Dense(256, activation=\"tanh\"))\n",
        "#model.add(Dense(128, activation= \"tanh\"))\n",
        "#model.add(Dense(128, activation= \"tanh\"))\n",
        "#model.add(Dense(64, activation= \"relu\"))\n",
        "model.add(Dense(64, activation= \"tanh\"))\n",
        "model.add(Dense(32, activation= \"relu\"))\n",
        "model.add(Dense(32, activation=\"tanh\"))\n",
        "model.add(Dense(16, activation=\"relu\"))\n",
        "model.add(Dense(8, activation=\"relu\"))\n",
        "model.add(Dense(1))\n",
        "model.summary()"
      ],
      "execution_count": 24,
      "outputs": [
        {
          "output_type": "stream",
          "text": [
            "Model: \"sequential\"\n",
            "_________________________________________________________________\n",
            "Layer (type)                 Output Shape              Param #   \n",
            "=================================================================\n",
            "dense (Dense)                (None, 128)               1280      \n",
            "_________________________________________________________________\n",
            "dense_1 (Dense)              (None, 64)                8256      \n",
            "_________________________________________________________________\n",
            "dense_2 (Dense)              (None, 32)                2080      \n",
            "_________________________________________________________________\n",
            "dense_3 (Dense)              (None, 32)                1056      \n",
            "_________________________________________________________________\n",
            "dense_4 (Dense)              (None, 16)                528       \n",
            "_________________________________________________________________\n",
            "dense_5 (Dense)              (None, 8)                 136       \n",
            "_________________________________________________________________\n",
            "dense_6 (Dense)              (None, 1)                 9         \n",
            "=================================================================\n",
            "Total params: 13,345\n",
            "Trainable params: 13,345\n",
            "Non-trainable params: 0\n",
            "_________________________________________________________________\n"
          ],
          "name": "stdout"
        }
      ]
    },
    {
      "cell_type": "code",
      "metadata": {
        "id": "hdk7z3PlTvir",
        "colab_type": "code",
        "colab": {}
      },
      "source": [
        "model.compile(loss= \"mean_squared_error\" , optimizer=\"adam\", metrics=[\"mean_squared_error\", \"accuracy\"])"
      ],
      "execution_count": 25,
      "outputs": []
    },
    {
      "cell_type": "code",
      "metadata": {
        "id": "dZMFrOX2T9CP",
        "colab_type": "code",
        "colab": {
          "base_uri": "https://localhost:8080/",
          "height": 139
        },
        "outputId": "bcb14a47-db58-42d2-b90c-695620736d21"
      },
      "source": [
        "model.fit(X_train, y_train, epochs=3, batch_size = 512, validation_data=(X_val, y_val))"
      ],
      "execution_count": 26,
      "outputs": [
        {
          "output_type": "stream",
          "text": [
            "Epoch 1/3\n",
            "3996/3996 [==============================] - 13s 3ms/step - loss: 0.7331 - mean_squared_error: 0.7331 - accuracy: 0.8492 - val_loss: 0.6297 - val_mean_squared_error: 0.6297 - val_accuracy: 0.8353\n",
            "Epoch 2/3\n",
            "3996/3996 [==============================] - 14s 4ms/step - loss: 0.7312 - mean_squared_error: 0.7312 - accuracy: 0.8482 - val_loss: 0.6272 - val_mean_squared_error: 0.6272 - val_accuracy: 0.8355\n",
            "Epoch 3/3\n",
            "3996/3996 [==============================] - 14s 3ms/step - loss: 0.7283 - mean_squared_error: 0.7283 - accuracy: 0.8425 - val_loss: 0.6297 - val_mean_squared_error: 0.6297 - val_accuracy: 0.7902\n"
          ],
          "name": "stdout"
        },
        {
          "output_type": "execute_result",
          "data": {
            "text/plain": [
              "<tensorflow.python.keras.callbacks.History at 0x7f5064538a90>"
            ]
          },
          "metadata": {
            "tags": []
          },
          "execution_count": 26
        }
      ]
    },
    {
      "cell_type": "code",
      "metadata": {
        "id": "tN5peqx1udeZ",
        "colab_type": "code",
        "colab": {}
      },
      "source": [
        "#model.save(input_dir + 'model_try1')"
      ],
      "execution_count": 28,
      "outputs": []
    },
    {
      "cell_type": "code",
      "metadata": {
        "id": "s_v9LB2UUuaM",
        "colab_type": "code",
        "colab": {}
      },
      "source": [
        "model = keras.models.load_model(input_dir + 'model_try2')"
      ],
      "execution_count": 29,
      "outputs": []
    },
    {
      "cell_type": "code",
      "metadata": {
        "id": "ygm0NN4AUDOI",
        "colab_type": "code",
        "colab": {}
      },
      "source": [
        "y_pred = model.predict(X_test)\n",
        "y_pred.reshape(y_pred.shape[0])\n",
        "predictions = np.round(np.array(y_pred))"
      ],
      "execution_count": 27,
      "outputs": []
    },
    {
      "cell_type": "code",
      "metadata": {
        "id": "_Nz8z7vHWv29",
        "colab_type": "code",
        "colab": {
          "base_uri": "https://localhost:8080/",
          "height": 1000
        },
        "outputId": "fb0d5172-ecef-44e5-b55d-b750817d687c"
      },
      "source": [
        "print(y_pred[0:100])\n",
        "print(y_test)"
      ],
      "execution_count": 28,
      "outputs": [
        {
          "output_type": "stream",
          "text": [
            "[[0.09109205]\n",
            " [0.09205043]\n",
            " [0.09294938]\n",
            " [0.09377985]\n",
            " [0.08906967]\n",
            " [0.08983376]\n",
            " [0.09044585]\n",
            " [0.09107811]\n",
            " [0.09203777]\n",
            " [0.09291388]\n",
            " [0.09377443]\n",
            " [0.0889396 ]\n",
            " [0.08990918]\n",
            " [0.09052971]\n",
            " [0.09107365]\n",
            " [0.09202645]\n",
            " [0.09290929]\n",
            " [0.09376442]\n",
            " [0.08879361]\n",
            " [0.08975308]\n",
            " [0.09045219]\n",
            " [0.0911241 ]\n",
            " [0.09202199]\n",
            " [0.09289501]\n",
            " [0.09374765]\n",
            " [0.08864604]\n",
            " [0.08961532]\n",
            " [0.09030591]\n",
            " [0.09112547]\n",
            " [0.09200972]\n",
            " [0.09287797]\n",
            " [0.09464788]\n",
            " [0.0887694 ]\n",
            " [0.08967964]\n",
            " [0.09044257]\n",
            " [0.09140707]\n",
            " [0.09225141]\n",
            " [0.09326129]\n",
            " [0.09441609]\n",
            " [0.08858861]\n",
            " [0.08949722]\n",
            " [0.09029944]\n",
            " [0.09124646]\n",
            " [0.09207808]\n",
            " [0.09300277]\n",
            " [0.09416356]\n",
            " [0.08841436]\n",
            " [0.08934002]\n",
            " [0.09015593]\n",
            " [0.09107976]\n",
            " [0.09191804]\n",
            " [0.09275461]\n",
            " [0.09392101]\n",
            " [0.08826327]\n",
            " [0.08920798]\n",
            " [0.08774028]\n",
            " [0.08813169]\n",
            " [0.08848254]\n",
            " [0.08866554]\n",
            " [0.08609199]\n",
            " [0.08665897]\n",
            " [0.08729962]\n",
            " [0.08772171]\n",
            " [0.08812504]\n",
            " [0.08851045]\n",
            " [0.08870624]\n",
            " [0.08595226]\n",
            " [0.08669412]\n",
            " [0.08731136]\n",
            " [0.08770335]\n",
            " [0.08811869]\n",
            " [0.08851729]\n",
            " [0.08874772]\n",
            " [0.08572027]\n",
            " [0.08663647]\n",
            " [0.08726992]\n",
            " [0.08768493]\n",
            " [0.08811244]\n",
            " [0.08852439]\n",
            " [0.088805  ]\n",
            " [0.08548282]\n",
            " [0.08640791]\n",
            " [0.08699111]\n",
            " [0.08766645]\n",
            " [0.0881061 ]\n",
            " [0.08853658]\n",
            " [0.0897778 ]\n",
            " [0.08490127]\n",
            " [0.08585593]\n",
            " [0.08635675]\n",
            " [0.08713832]\n",
            " [0.08793428]\n",
            " [0.0887435 ]\n",
            " [0.08952827]\n",
            " [0.08461481]\n",
            " [0.08557499]\n",
            " [0.08603749]\n",
            " [0.08683077]\n",
            " [0.0876376 ]\n",
            " [0.08845685]]\n",
            "31        0\n",
            "32        0\n",
            "33        0\n",
            "34        0\n",
            "35        0\n",
            "         ..\n",
            "128135    2\n",
            "128136    0\n",
            "128137    0\n",
            "128138    0\n",
            "128139    0\n",
            "Name: Quantity_sold, Length: 81950, dtype: int8\n"
          ],
          "name": "stdout"
        }
      ]
    },
    {
      "cell_type": "code",
      "metadata": {
        "id": "ocnSHzAnYHes",
        "colab_type": "code",
        "colab": {}
      },
      "source": [
        "y_test = y_test.values.reshape(y_pred.shape)"
      ],
      "execution_count": 29,
      "outputs": []
    },
    {
      "cell_type": "code",
      "metadata": {
        "id": "lrNnaPMXTT5G",
        "colab_type": "code",
        "colab": {
          "base_uri": "https://localhost:8080/",
          "height": 34
        },
        "outputId": "1c1a8b20-e1a7-4596-9abe-79e6cf1516e3"
      },
      "source": [
        "print(model.history.history.keys())"
      ],
      "execution_count": 30,
      "outputs": [
        {
          "output_type": "stream",
          "text": [
            "dict_keys([])\n"
          ],
          "name": "stdout"
        }
      ]
    },
    {
      "cell_type": "code",
      "metadata": {
        "id": "P95QXUbITmdf",
        "colab_type": "code",
        "colab": {}
      },
      "source": [
        "import matplotlib.pyplot as plt\n",
        "%matplotlib inline"
      ],
      "execution_count": 31,
      "outputs": []
    },
    {
      "cell_type": "code",
      "metadata": {
        "id": "51nR-PzgTtHm",
        "colab_type": "code",
        "colab": {
          "base_uri": "https://localhost:8080/",
          "height": 237
        },
        "outputId": "027859e6-fc9c-4fe7-b549-f2ee27f67078"
      },
      "source": [
        "# summarize history for accuracy\n",
        "plt.plot(model.history.history['accuracy'])\n",
        "plt.plot(model.history.history['val_accuracy'])\n",
        "plt.title('model accuracy')\n",
        "plt.ylabel('accuracy')\n",
        "plt.xlabel('epoch')\n",
        "plt.legend(['train', 'validation'], loc='upper left')\n",
        "plt.show()"
      ],
      "execution_count": 32,
      "outputs": [
        {
          "output_type": "error",
          "ename": "KeyError",
          "evalue": "ignored",
          "traceback": [
            "\u001b[0;31m---------------------------------------------------------------------------\u001b[0m",
            "\u001b[0;31mKeyError\u001b[0m                                  Traceback (most recent call last)",
            "\u001b[0;32m<ipython-input-32-6e8d31ca0bd1>\u001b[0m in \u001b[0;36m<module>\u001b[0;34m()\u001b[0m\n\u001b[1;32m      1\u001b[0m \u001b[0;31m# summarize history for accuracy\u001b[0m\u001b[0;34m\u001b[0m\u001b[0;34m\u001b[0m\u001b[0;34m\u001b[0m\u001b[0m\n\u001b[0;32m----> 2\u001b[0;31m \u001b[0mplt\u001b[0m\u001b[0;34m.\u001b[0m\u001b[0mplot\u001b[0m\u001b[0;34m(\u001b[0m\u001b[0mmodel\u001b[0m\u001b[0;34m.\u001b[0m\u001b[0mhistory\u001b[0m\u001b[0;34m.\u001b[0m\u001b[0mhistory\u001b[0m\u001b[0;34m[\u001b[0m\u001b[0;34m'accuracy'\u001b[0m\u001b[0;34m]\u001b[0m\u001b[0;34m)\u001b[0m\u001b[0;34m\u001b[0m\u001b[0;34m\u001b[0m\u001b[0m\n\u001b[0m\u001b[1;32m      3\u001b[0m \u001b[0mplt\u001b[0m\u001b[0;34m.\u001b[0m\u001b[0mplot\u001b[0m\u001b[0;34m(\u001b[0m\u001b[0mmodel\u001b[0m\u001b[0;34m.\u001b[0m\u001b[0mhistory\u001b[0m\u001b[0;34m.\u001b[0m\u001b[0mhistory\u001b[0m\u001b[0;34m[\u001b[0m\u001b[0;34m'val_accuracy'\u001b[0m\u001b[0;34m]\u001b[0m\u001b[0;34m)\u001b[0m\u001b[0;34m\u001b[0m\u001b[0;34m\u001b[0m\u001b[0m\n\u001b[1;32m      4\u001b[0m \u001b[0mplt\u001b[0m\u001b[0;34m.\u001b[0m\u001b[0mtitle\u001b[0m\u001b[0;34m(\u001b[0m\u001b[0;34m'model accuracy'\u001b[0m\u001b[0;34m)\u001b[0m\u001b[0;34m\u001b[0m\u001b[0;34m\u001b[0m\u001b[0m\n\u001b[1;32m      5\u001b[0m \u001b[0mplt\u001b[0m\u001b[0;34m.\u001b[0m\u001b[0mylabel\u001b[0m\u001b[0;34m(\u001b[0m\u001b[0;34m'accuracy'\u001b[0m\u001b[0;34m)\u001b[0m\u001b[0;34m\u001b[0m\u001b[0;34m\u001b[0m\u001b[0m\n",
            "\u001b[0;31mKeyError\u001b[0m: 'accuracy'"
          ]
        }
      ]
    },
    {
      "cell_type": "code",
      "metadata": {
        "id": "2ZBzuVnTTtEE",
        "colab_type": "code",
        "colab": {
          "base_uri": "https://localhost:8080/",
          "height": 295
        },
        "outputId": "cebe50d4-2c94-47c5-e3fe-e2264300ff35"
      },
      "source": [
        "# summarize history for loss\n",
        "plt.plot(model.history.history['loss'])\n",
        "plt.plot(model.history.history['val_loss'])\n",
        "plt.title('model loss')\n",
        "plt.ylabel('loss')\n",
        "plt.xlabel('epoch')\n",
        "plt.legend(['train', 'validation'], loc='upper left')\n",
        "plt.show()"
      ],
      "execution_count": null,
      "outputs": [
        {
          "output_type": "display_data",
          "data": {
            "image/png": "[encoded data removed]",
            "text/plain": [
              "<Figure size 432x288 with 1 Axes>"
            ]
          },
          "metadata": {
            "tags": [],
            "needs_background": "light"
          }
        }
      ]
    },
    {
      "cell_type": "code",
      "metadata": {
        "id": "OpLc7C6oUFv9",
        "colab_type": "code",
        "colab": {
          "base_uri": "https://localhost:8080/",
          "height": 295
        },
        "outputId": "db2dbaf2-827f-4851-ffea-52e67a0c4664"
      },
      "source": [
        "# summarize history for loss\n",
        "plt.plot(model.history.history['mean_squared_error'])\n",
        "plt.plot(model.history.history['val_mean_squared_error'])\n",
        "plt.title('mean squared error loss')\n",
        "plt.ylabel('loss')\n",
        "plt.xlabel('epoch')\n",
        "plt.legend(['train', 'test'], loc='upper left')\n",
        "plt.show()"
      ],
      "execution_count": null,
      "outputs": [
        {
          "output_type": "display_data",
          "data": {
            "image/png": "[encoded data removed]",
            "text/plain": [
              "<Figure size 432x288 with 1 Axes>"
            ]
          },
          "metadata": {
            "tags": [],
            "needs_background": "light"
          }
        }
      ]
    },
    {
      "cell_type": "code",
      "metadata": {
        "id": "Jeh2oufmXnbG",
        "colab_type": "code",
        "colab": {
          "base_uri": "https://localhost:8080/",
          "height": 69
        },
        "outputId": "ad76ea2a-ec94-4463-c8c3-8784f885fe30"
      },
      "source": [
        "print(y_pred.shape)\n",
        "print(predictions.shape)\n",
        "print(y_test.shape)"
      ],
      "execution_count": 33,
      "outputs": [
        {
          "output_type": "stream",
          "text": [
            "(81950, 1)\n",
            "(81950, 1)\n",
            "(81950, 1)\n"
          ],
          "name": "stdout"
        }
      ]
    },
    {
      "cell_type": "code",
      "metadata": {
        "id": "iS6DziEcUd5B",
        "colab_type": "code",
        "colab": {
          "base_uri": "https://localhost:8080/",
          "height": 52
        },
        "outputId": "eacce405-246c-439f-b3f2-c5b6fc3d509f"
      },
      "source": [
        "from sklearn.metrics import accuracy_score, mean_squared_error\n",
        "\n",
        "score = np.sqrt(mean_squared_error(y_test, y_pred))\n",
        "print (score)\n",
        "accuracy = accuracy_score(y_test, predictions)\n",
        "print(\"Accuracy: %.2f%%\" % (accuracy * 100.0))"
      ],
      "execution_count": 34,
      "outputs": [
        {
          "output_type": "stream",
          "text": [
            "0.77813846\n",
            "Accuracy: 79.71%\n"
          ],
          "name": "stdout"
        }
      ]
    },
    {
      "cell_type": "code",
      "metadata": {
        "id": "GOu91_gFU2ve",
        "colab_type": "code",
        "colab": {}
      },
      "source": [
        "def eval_results(yhat_mean, y):\n",
        "    temp_dict = {}\n",
        "    temp_dict['MAD'] = np.nanmean(np.abs(y - yhat_mean))\n",
        "    #temp_dict['MAPE'] = np.nanmean(np.abs((y-yhat_mean)/(y+1e-7)))\n",
        "    temp_dict['MSE'] = np.nanmean(np.square(y - yhat_mean))\n",
        "    temp_dict['WMAPE'] = np.nansum(np.abs(y - yhat_mean)) / np.nansum(y)\n",
        "    temp_dict['MD'] = np.nanmean(y - yhat_mean)\n",
        "    temp_dict['mean'] = np.nanmean(y)\n",
        "    temp_dict['SMAPE'] = 100. * np.nanmean(np.abs(y - yhat_mean) / ((np.abs(y) + np.abs(yhat_mean)) / 2.))\n",
        "    # print(temp_dict)\n",
        "    return temp_dict"
      ],
      "execution_count": 35,
      "outputs": []
    },
    {
      "cell_type": "code",
      "metadata": {
        "id": "H5YYexctU4op",
        "colab_type": "code",
        "colab": {
          "base_uri": "https://localhost:8080/",
          "height": 34
        },
        "outputId": "02cb8157-3b72-4c8d-e53f-5090d734b30c"
      },
      "source": [
        "print(eval_results(predictions, y_test))"
      ],
      "execution_count": 36,
      "outputs": [
        {
          "output_type": "stream",
          "text": [
            "{'MAD': 0.28435633, 'MSE': 0.6733496, 'WMAPE': 1.1396781923998631, 'MD': 0.1880537, 'mean': 0.24950579621720562, 'SMAPE': 189.7203803062439}\n"
          ],
          "name": "stdout"
        }
      ]
    },
    {
      "cell_type": "code",
      "metadata": {
        "id": "t45Z8KxAY7jh",
        "colab_type": "code",
        "colab": {}
      },
      "source": [
        "def zeros_sep(y_test, predictions):\n",
        "  zeros_real = y_test[y_test==0]\n",
        "  other_real = y_test[y_test!=0]\n",
        "  zeros_pred = []\n",
        "  other_pred = []\n",
        "  i=0\n",
        "  for y in y_test:\n",
        "    if y==0:\n",
        "      zeros_pred.append(predictions[i, 0])\n",
        "    else:\n",
        "      other_pred.append(predictions[i, 0])\n",
        "    i=i+1\n",
        "\n",
        "  print(len(other_real), len(other_pred))\n",
        "\n",
        "  count =0\n",
        "  for i in other_pred:\n",
        "    if i<0.05:\n",
        "      count+=1\n",
        "  print(\"Count of zeros which are supposed to be non zero:  \", count)\n",
        "\n",
        "  mad_zeros = np.nanmean(np.abs(zeros_pred - zeros_real))\n",
        "  mape_other = np.nanmean(np.abs((other_pred-other_real)/other_real))\n",
        "\n",
        "  print(\"MAD_zeros:   \", mad_zeros)\n",
        "  print(\"MAPE_other:  \", mape_other)"
      ],
      "execution_count": 37,
      "outputs": []
    },
    {
      "cell_type": "code",
      "metadata": {
        "id": "C6J4FrH7ZmnH",
        "colab_type": "code",
        "colab": {
          "base_uri": "https://localhost:8080/",
          "height": 86
        },
        "outputId": "6ffd7811-2a95-46e0-a5bf-c6517d608b27"
      },
      "source": [
        "zeros_sep(y_test, predictions)"
      ],
      "execution_count": 38,
      "outputs": [
        {
          "output_type": "stream",
          "text": [
            "13358 13358\n",
            "Count of zeros which are supposed to be non zero:   12268\n",
            "MAD_zeros:    0.057528574\n",
            "MAPE_other:   0.93809456\n"
          ],
          "name": "stdout"
        }
      ]
    },
    {
      "cell_type": "code",
      "metadata": {
        "id": "_OBoSGWwbJHR",
        "colab_type": "code",
        "colab": {
          "base_uri": "https://localhost:8080/",
          "height": 139
        },
        "outputId": "50e57d1a-3871-45b7-a8a1-a776ba7a672b"
      },
      "source": [
        "predictions"
      ],
      "execution_count": 39,
      "outputs": [
        {
          "output_type": "execute_result",
          "data": {
            "text/plain": [
              "array([[0.],\n",
              "       [0.],\n",
              "       [0.],\n",
              "       ...,\n",
              "       [0.],\n",
              "       [0.],\n",
              "       [0.]], dtype=float32)"
            ]
          },
          "metadata": {
            "tags": []
          },
          "execution_count": 39
        }
      ]
    },
    {
      "cell_type": "code",
      "metadata": {
        "id": "g72Oqd4WWRWb",
        "colab_type": "code",
        "colab": {
          "base_uri": "https://localhost:8080/",
          "height": 34
        },
        "outputId": "4d419dde-8feb-426b-f0c1-54597642a3bc"
      },
      "source": [
        "X_test.shape"
      ],
      "execution_count": 40,
      "outputs": [
        {
          "output_type": "execute_result",
          "data": {
            "text/plain": [
              "(81950, 9)"
            ]
          },
          "metadata": {
            "tags": []
          },
          "execution_count": 40
        }
      ]
    },
    {
      "cell_type": "code",
      "metadata": {
        "id": "u5xt1UZmWRTP",
        "colab_type": "code",
        "colab": {}
      },
      "source": [
        "#weekly = pd.concat([X_test, y_test, predictions], axis='col')"
      ],
      "execution_count": 41,
      "outputs": []
    },
    {
      "cell_type": "code",
      "metadata": {
        "id": "o0Vc5kvO9IEu",
        "colab_type": "code",
        "colab": {}
      },
      "source": [
        "test = test[test.columns[0:10]]"
      ],
      "execution_count": 42,
      "outputs": []
    },
    {
      "cell_type": "code",
      "metadata": {
        "id": "xn8HlQu_9jhA",
        "colab_type": "code",
        "colab": {}
      },
      "source": [
        "test.rename(columns={'Quantity_sold': 'y_test'}, inplace=True)"
      ],
      "execution_count": 43,
      "outputs": []
    },
    {
      "cell_type": "code",
      "metadata": {
        "id": "x8eO4R96BIKL",
        "colab_type": "code",
        "colab": {}
      },
      "source": [
        "test.drop(['sell_price', 'month', 'year', 'mrp', 'discount'], axis=1, inplace=True)"
      ],
      "execution_count": 44,
      "outputs": []
    },
    {
      "cell_type": "code",
      "metadata": {
        "id": "434weYHxCtew",
        "colab_type": "code",
        "colab": {}
      },
      "source": [
        "test.drop('wday', axis=1, inplace=True)"
      ],
      "execution_count": 45,
      "outputs": []
    },
    {
      "cell_type": "code",
      "metadata": {
        "id": "wUD4kaXK9ksH",
        "colab_type": "code",
        "colab": {}
      },
      "source": [
        "#weekly = pd.merge(left = test, right = predictions, how='inner', left_on = True)"
      ],
      "execution_count": 46,
      "outputs": []
    },
    {
      "cell_type": "code",
      "metadata": {
        "id": "VFX6qR1aBo8_",
        "colab_type": "code",
        "colab": {}
      },
      "source": [
        "test['rounded'] = predictions\n",
        "test['pred'] = y_pred"
      ],
      "execution_count": 47,
      "outputs": []
    },
    {
      "cell_type": "code",
      "metadata": {
        "id": "F_RFI3tq_CoL",
        "colab_type": "code",
        "colab": {
          "base_uri": "https://localhost:8080/",
          "height": 424
        },
        "outputId": "5189fa6e-fc22-4776-a7e0-b6351c933524"
      },
      "source": [
        "test"
      ],
      "execution_count": 48,
      "outputs": [
        {
          "output_type": "execute_result",
          "data": {
            "text/html": [
              "<div>\n",
              "<style scoped>\n",
              "    .dataframe tbody tr th:only-of-type {\n",
              "        vertical-align: middle;\n",
              "    }\n",
              "\n",
              "    .dataframe tbody tr th {\n",
              "        vertical-align: top;\n",
              "    }\n",
              "\n",
              "    .dataframe thead th {\n",
              "        text-align: right;\n",
              "    }\n",
              "</style>\n",
              "<table border=\"1\" class=\"dataframe\">\n",
              "  <thead>\n",
              "    <tr style=\"text-align: right;\">\n",
              "      <th></th>\n",
              "      <th>item_id</th>\n",
              "      <th>store_id</th>\n",
              "      <th>y_test</th>\n",
              "      <th>week_number</th>\n",
              "      <th>rounded</th>\n",
              "      <th>pred</th>\n",
              "    </tr>\n",
              "  </thead>\n",
              "  <tbody>\n",
              "    <tr>\n",
              "      <th>31</th>\n",
              "      <td>HOBBIES_2_001</td>\n",
              "      <td>CA_1</td>\n",
              "      <td>0</td>\n",
              "      <td>9</td>\n",
              "      <td>0.0</td>\n",
              "      <td>0.091092</td>\n",
              "    </tr>\n",
              "    <tr>\n",
              "      <th>32</th>\n",
              "      <td>HOBBIES_2_001</td>\n",
              "      <td>CA_1</td>\n",
              "      <td>0</td>\n",
              "      <td>9</td>\n",
              "      <td>0.0</td>\n",
              "      <td>0.092050</td>\n",
              "    </tr>\n",
              "    <tr>\n",
              "      <th>33</th>\n",
              "      <td>HOBBIES_2_001</td>\n",
              "      <td>CA_1</td>\n",
              "      <td>0</td>\n",
              "      <td>9</td>\n",
              "      <td>0.0</td>\n",
              "      <td>0.092949</td>\n",
              "    </tr>\n",
              "    <tr>\n",
              "      <th>34</th>\n",
              "      <td>HOBBIES_2_001</td>\n",
              "      <td>CA_1</td>\n",
              "      <td>0</td>\n",
              "      <td>9</td>\n",
              "      <td>0.0</td>\n",
              "      <td>0.093780</td>\n",
              "    </tr>\n",
              "    <tr>\n",
              "      <th>35</th>\n",
              "      <td>HOBBIES_2_001</td>\n",
              "      <td>CA_1</td>\n",
              "      <td>0</td>\n",
              "      <td>9</td>\n",
              "      <td>0.0</td>\n",
              "      <td>0.089070</td>\n",
              "    </tr>\n",
              "    <tr>\n",
              "      <th>...</th>\n",
              "      <td>...</td>\n",
              "      <td>...</td>\n",
              "      <td>...</td>\n",
              "      <td>...</td>\n",
              "      <td>...</td>\n",
              "      <td>...</td>\n",
              "    </tr>\n",
              "    <tr>\n",
              "      <th>128135</th>\n",
              "      <td>HOBBIES_2_149</td>\n",
              "      <td>WI_3</td>\n",
              "      <td>2</td>\n",
              "      <td>16</td>\n",
              "      <td>0.0</td>\n",
              "      <td>0.420280</td>\n",
              "    </tr>\n",
              "    <tr>\n",
              "      <th>128136</th>\n",
              "      <td>HOBBIES_2_149</td>\n",
              "      <td>WI_3</td>\n",
              "      <td>0</td>\n",
              "      <td>16</td>\n",
              "      <td>0.0</td>\n",
              "      <td>0.399436</td>\n",
              "    </tr>\n",
              "    <tr>\n",
              "      <th>128137</th>\n",
              "      <td>HOBBIES_2_149</td>\n",
              "      <td>WI_3</td>\n",
              "      <td>0</td>\n",
              "      <td>16</td>\n",
              "      <td>0.0</td>\n",
              "      <td>0.376525</td>\n",
              "    </tr>\n",
              "    <tr>\n",
              "      <th>128138</th>\n",
              "      <td>HOBBIES_2_149</td>\n",
              "      <td>WI_3</td>\n",
              "      <td>0</td>\n",
              "      <td>16</td>\n",
              "      <td>0.0</td>\n",
              "      <td>0.478217</td>\n",
              "    </tr>\n",
              "    <tr>\n",
              "      <th>128139</th>\n",
              "      <td>HOBBIES_2_149</td>\n",
              "      <td>WI_3</td>\n",
              "      <td>0</td>\n",
              "      <td>16</td>\n",
              "      <td>0.0</td>\n",
              "      <td>0.467225</td>\n",
              "    </tr>\n",
              "  </tbody>\n",
              "</table>\n",
              "<p>81950 rows × 6 columns</p>\n",
              "</div>"
            ],
            "text/plain": [
              "              item_id store_id  y_test  week_number  rounded      pred\n",
              "31      HOBBIES_2_001     CA_1       0            9      0.0  0.091092\n",
              "32      HOBBIES_2_001     CA_1       0            9      0.0  0.092050\n",
              "33      HOBBIES_2_001     CA_1       0            9      0.0  0.092949\n",
              "34      HOBBIES_2_001     CA_1       0            9      0.0  0.093780\n",
              "35      HOBBIES_2_001     CA_1       0            9      0.0  0.089070\n",
              "...               ...      ...     ...          ...      ...       ...\n",
              "128135  HOBBIES_2_149     WI_3       2           16      0.0  0.420280\n",
              "128136  HOBBIES_2_149     WI_3       0           16      0.0  0.399436\n",
              "128137  HOBBIES_2_149     WI_3       0           16      0.0  0.376525\n",
              "128138  HOBBIES_2_149     WI_3       0           16      0.0  0.478217\n",
              "128139  HOBBIES_2_149     WI_3       0           16      0.0  0.467225\n",
              "\n",
              "[81950 rows x 6 columns]"
            ]
          },
          "metadata": {
            "tags": []
          },
          "execution_count": 48
        }
      ]
    },
    {
      "cell_type": "code",
      "metadata": {
        "id": "ppupSQa2_IKq",
        "colab_type": "code",
        "colab": {}
      },
      "source": [
        "weekly = test.groupby(by = ['item_id', 'store_id', 'week_number']).sum()"
      ],
      "execution_count": 49,
      "outputs": []
    },
    {
      "cell_type": "code",
      "metadata": {
        "id": "Xrdt_OM6_PL-",
        "colab_type": "code",
        "colab": {
          "base_uri": "https://localhost:8080/",
          "height": 455
        },
        "outputId": "ddd2ea24-113a-4498-f478-3c31e5f2468d"
      },
      "source": [
        "weekly"
      ],
      "execution_count": 50,
      "outputs": [
        {
          "output_type": "execute_result",
          "data": {
            "text/html": [
              "<div>\n",
              "<style scoped>\n",
              "    .dataframe tbody tr th:only-of-type {\n",
              "        vertical-align: middle;\n",
              "    }\n",
              "\n",
              "    .dataframe tbody tr th {\n",
              "        vertical-align: top;\n",
              "    }\n",
              "\n",
              "    .dataframe thead th {\n",
              "        text-align: right;\n",
              "    }\n",
              "</style>\n",
              "<table border=\"1\" class=\"dataframe\">\n",
              "  <thead>\n",
              "    <tr style=\"text-align: right;\">\n",
              "      <th></th>\n",
              "      <th></th>\n",
              "      <th></th>\n",
              "      <th>y_test</th>\n",
              "      <th>rounded</th>\n",
              "      <th>pred</th>\n",
              "    </tr>\n",
              "    <tr>\n",
              "      <th>item_id</th>\n",
              "      <th>store_id</th>\n",
              "      <th>week_number</th>\n",
              "      <th></th>\n",
              "      <th></th>\n",
              "      <th></th>\n",
              "    </tr>\n",
              "  </thead>\n",
              "  <tbody>\n",
              "    <tr>\n",
              "      <th rowspan=\"5\" valign=\"top\">HOBBIES_2_001</th>\n",
              "      <th rowspan=\"5\" valign=\"top\">CA_1</th>\n",
              "      <th>9</th>\n",
              "      <td>0</td>\n",
              "      <td>0.0</td>\n",
              "      <td>0.548775</td>\n",
              "    </tr>\n",
              "    <tr>\n",
              "      <th>10</th>\n",
              "      <td>1</td>\n",
              "      <td>0.0</td>\n",
              "      <td>0.639099</td>\n",
              "    </tr>\n",
              "    <tr>\n",
              "      <th>11</th>\n",
              "      <td>1</td>\n",
              "      <td>0.0</td>\n",
              "      <td>0.638850</td>\n",
              "    </tr>\n",
              "    <tr>\n",
              "      <th>12</th>\n",
              "      <td>0</td>\n",
              "      <td>0.0</td>\n",
              "      <td>0.638502</td>\n",
              "    </tr>\n",
              "    <tr>\n",
              "      <th>13</th>\n",
              "      <td>2</td>\n",
              "      <td>0.0</td>\n",
              "      <td>0.639416</td>\n",
              "    </tr>\n",
              "    <tr>\n",
              "      <th>...</th>\n",
              "      <th>...</th>\n",
              "      <th>...</th>\n",
              "      <td>...</td>\n",
              "      <td>...</td>\n",
              "      <td>...</td>\n",
              "    </tr>\n",
              "    <tr>\n",
              "      <th rowspan=\"5\" valign=\"top\">HOBBIES_2_149</th>\n",
              "      <th rowspan=\"5\" valign=\"top\">WI_3</th>\n",
              "      <th>12</th>\n",
              "      <td>1</td>\n",
              "      <td>0.0</td>\n",
              "      <td>2.389758</td>\n",
              "    </tr>\n",
              "    <tr>\n",
              "      <th>13</th>\n",
              "      <td>1</td>\n",
              "      <td>0.0</td>\n",
              "      <td>2.612718</td>\n",
              "    </tr>\n",
              "    <tr>\n",
              "      <th>14</th>\n",
              "      <td>0</td>\n",
              "      <td>0.0</td>\n",
              "      <td>2.907435</td>\n",
              "    </tr>\n",
              "    <tr>\n",
              "      <th>15</th>\n",
              "      <td>1</td>\n",
              "      <td>0.0</td>\n",
              "      <td>2.972493</td>\n",
              "    </tr>\n",
              "    <tr>\n",
              "      <th>16</th>\n",
              "      <td>2</td>\n",
              "      <td>0.0</td>\n",
              "      <td>3.034261</td>\n",
              "    </tr>\n",
              "  </tbody>\n",
              "</table>\n",
              "<p>11920 rows × 3 columns</p>\n",
              "</div>"
            ],
            "text/plain": [
              "                                    y_test  rounded      pred\n",
              "item_id       store_id week_number                           \n",
              "HOBBIES_2_001 CA_1     9                 0      0.0  0.548775\n",
              "                       10                1      0.0  0.639099\n",
              "                       11                1      0.0  0.638850\n",
              "                       12                0      0.0  0.638502\n",
              "                       13                2      0.0  0.639416\n",
              "...                                    ...      ...       ...\n",
              "HOBBIES_2_149 WI_3     12                1      0.0  2.389758\n",
              "                       13                1      0.0  2.612718\n",
              "                       14                0      0.0  2.907435\n",
              "                       15                1      0.0  2.972493\n",
              "                       16                2      0.0  3.034261\n",
              "\n",
              "[11920 rows x 3 columns]"
            ]
          },
          "metadata": {
            "tags": []
          },
          "execution_count": 50
        }
      ]
    },
    {
      "cell_type": "code",
      "metadata": {
        "id": "8_xHDqqXX-Od",
        "colab_type": "code",
        "colab": {}
      },
      "source": [
        "weekly_rounded = weekly['rounded']\n",
        "weekly_y = weekly['y_test']\n",
        "weekly_pred = weekly['pred']"
      ],
      "execution_count": 52,
      "outputs": []
    },
    {
      "cell_type": "code",
      "metadata": {
        "id": "E7DJcCBPYKW4",
        "colab_type": "code",
        "colab": {
          "base_uri": "https://localhost:8080/",
          "height": 34
        },
        "outputId": "be18dd26-4feb-4f6d-b62a-4ba8566d4318"
      },
      "source": [
        "print(eval_results(weekly_pred, weekly_y))"
      ],
      "execution_count": 53,
      "outputs": [
        {
          "output_type": "stream",
          "text": [
            "{'MAD': 1.7833314, 'MSE': 7.2985587, 'WMAPE': 1.0396298012850296, 'MD': -0.1753953, 'mean': 1.7153523489932887, 'SMAPE': 116.11933771212696}\n"
          ],
          "name": "stdout"
        }
      ]
    },
    {
      "cell_type": "code",
      "metadata": {
        "id": "oQgh0owKaR-M",
        "colab_type": "code",
        "colab": {}
      },
      "source": [
        "weekly_pred.to_numpy()\n",
        "l = len(weekly_pred)"
      ],
      "execution_count": 54,
      "outputs": []
    },
    {
      "cell_type": "code",
      "metadata": {
        "id": "m5rgqzezbTri",
        "colab_type": "code",
        "colab": {
          "base_uri": "https://localhost:8080/",
          "height": 34
        },
        "outputId": "aa42da3f-7df0-4a43-b5d6-be1c5968e19b"
      },
      "source": [
        "print(l)"
      ],
      "execution_count": 55,
      "outputs": [
        {
          "output_type": "stream",
          "text": [
            "11920\n"
          ],
          "name": "stdout"
        }
      ]
    },
    {
      "cell_type": "code",
      "metadata": {
        "id": "BaURQKg-bt0h",
        "colab_type": "code",
        "colab": {
          "base_uri": "https://localhost:8080/",
          "height": 52
        },
        "outputId": "357c96be-8568-4793-f0ea-dfd5be14f131"
      },
      "source": [
        "score = np.sqrt(mean_squared_error(weekly_y, weekly_pred))\n",
        "print (score)\n",
        "accuracy = accuracy_score(weekly_y, weekly_rounded)\n",
        "print(\"Accuracy: %.2f%%\" % (accuracy * 100.0))"
      ],
      "execution_count": 58,
      "outputs": [
        {
          "output_type": "stream",
          "text": [
            "2.7015846\n",
            "Accuracy: 38.54%\n"
          ],
          "name": "stdout"
        }
      ]
    },
    {
      "cell_type": "code",
      "metadata": {
        "id": "oNnHLhMkaF-a",
        "colab_type": "code",
        "colab": {}
      },
      "source": [
        "def zeros_week(y_test, predictions):\n",
        "  zeros_real = y_test[y_test==0]\n",
        "  other_real = y_test[y_test!=0]\n",
        "  zeros_pred = []\n",
        "  other_pred = []\n",
        "  i=0\n",
        "  for y in y_test:\n",
        "    if y==0:\n",
        "      zeros_pred.append(predictions[i])\n",
        "    else:\n",
        "      other_pred.append(predictions[i])\n",
        "    i=i+1\n",
        "\n",
        "  print(len(other_real), len(other_pred))\n",
        "\n",
        "  count =0\n",
        "  for i in other_pred:\n",
        "    if i<0.05:\n",
        "      count+=1\n",
        "  print(\"Count of zeros which are supposed to be non zero:  \", count)\n",
        "\n",
        "  mad_zeros = np.nanmean(np.abs(zeros_pred - zeros_real))\n",
        "  mape_other = np.nanmean(np.abs((other_pred-other_real)/other_real))\n",
        "\n",
        "  print(\"MAD_zeros:   \", mad_zeros)\n",
        "  print(\"MAPE_other:  \", mape_other)"
      ],
      "execution_count": 59,
      "outputs": []
    },
    {
      "cell_type": "code",
      "metadata": {
        "id": "ZrEGPLkGYv8K",
        "colab_type": "code",
        "colab": {
          "base_uri": "https://localhost:8080/",
          "height": 86
        },
        "outputId": "1b2c82ff-3c5e-47bd-b268-aa1a16df483a"
      },
      "source": [
        "zeros_week(weekly_y.to_numpy(), weekly_pred.to_numpy())"
      ],
      "execution_count": 60,
      "outputs": [
        {
          "output_type": "stream",
          "text": [
            "7033 7033\n",
            "Count of zeros which are supposed to be non zero:   0\n",
            "MAD_zeros:    1.8153328\n",
            "MAPE_other:   0.6034423\n"
          ],
          "name": "stdout"
        }
      ]
    },
    {
      "cell_type": "code",
      "metadata": {
        "id": "6MyODR6TcQJy",
        "colab_type": "code",
        "colab": {
          "base_uri": "https://localhost:8080/",
          "height": 238
        },
        "outputId": "aa0dda9b-d6c5-4028-e9ca-ba865e58ea55"
      },
      "source": [
        "weekly.nlargest(5, columns='y_test', keep='first')"
      ],
      "execution_count": 61,
      "outputs": [
        {
          "output_type": "execute_result",
          "data": {
            "text/html": [
              "<div>\n",
              "<style scoped>\n",
              "    .dataframe tbody tr th:only-of-type {\n",
              "        vertical-align: middle;\n",
              "    }\n",
              "\n",
              "    .dataframe tbody tr th {\n",
              "        vertical-align: top;\n",
              "    }\n",
              "\n",
              "    .dataframe thead th {\n",
              "        text-align: right;\n",
              "    }\n",
              "</style>\n",
              "<table border=\"1\" class=\"dataframe\">\n",
              "  <thead>\n",
              "    <tr style=\"text-align: right;\">\n",
              "      <th></th>\n",
              "      <th></th>\n",
              "      <th></th>\n",
              "      <th>y_test</th>\n",
              "      <th>rounded</th>\n",
              "      <th>pred</th>\n",
              "    </tr>\n",
              "    <tr>\n",
              "      <th>item_id</th>\n",
              "      <th>store_id</th>\n",
              "      <th>week_number</th>\n",
              "      <th></th>\n",
              "      <th></th>\n",
              "      <th></th>\n",
              "    </tr>\n",
              "  </thead>\n",
              "  <tbody>\n",
              "    <tr>\n",
              "      <th>HOBBIES_2_059</th>\n",
              "      <th>TX_2</th>\n",
              "      <th>14</th>\n",
              "      <td>41</td>\n",
              "      <td>7.0</td>\n",
              "      <td>5.882174</td>\n",
              "    </tr>\n",
              "    <tr>\n",
              "      <th>HOBBIES_2_124</th>\n",
              "      <th>TX_3</th>\n",
              "      <th>14</th>\n",
              "      <td>34</td>\n",
              "      <td>7.0</td>\n",
              "      <td>4.458643</td>\n",
              "    </tr>\n",
              "    <tr>\n",
              "      <th>HOBBIES_2_042</th>\n",
              "      <th>CA_3</th>\n",
              "      <th>14</th>\n",
              "      <td>32</td>\n",
              "      <td>6.0</td>\n",
              "      <td>4.133763</td>\n",
              "    </tr>\n",
              "    <tr>\n",
              "      <th>HOBBIES_2_129</th>\n",
              "      <th>WI_2</th>\n",
              "      <th>16</th>\n",
              "      <td>32</td>\n",
              "      <td>7.0</td>\n",
              "      <td>4.622562</td>\n",
              "    </tr>\n",
              "    <tr>\n",
              "      <th>HOBBIES_2_075</th>\n",
              "      <th>CA_3</th>\n",
              "      <th>11</th>\n",
              "      <td>31</td>\n",
              "      <td>0.0</td>\n",
              "      <td>1.660194</td>\n",
              "    </tr>\n",
              "  </tbody>\n",
              "</table>\n",
              "</div>"
            ],
            "text/plain": [
              "                                    y_test  rounded      pred\n",
              "item_id       store_id week_number                           \n",
              "HOBBIES_2_059 TX_2     14               41      7.0  5.882174\n",
              "HOBBIES_2_124 TX_3     14               34      7.0  4.458643\n",
              "HOBBIES_2_042 CA_3     14               32      6.0  4.133763\n",
              "HOBBIES_2_129 WI_2     16               32      7.0  4.622562\n",
              "HOBBIES_2_075 CA_3     11               31      0.0  1.660194"
            ]
          },
          "metadata": {
            "tags": []
          },
          "execution_count": 61
        }
      ]
    },
    {
      "cell_type": "code",
      "metadata": {
        "id": "Y5Or5qYZdI-k",
        "colab_type": "code",
        "colab": {
          "base_uri": "https://localhost:8080/",
          "height": 238
        },
        "outputId": "f872df4d-0c0a-4aaf-e159-da676654256a"
      },
      "source": [
        "weekly.nlargest(5, columns='pred', keep='first')"
      ],
      "execution_count": 62,
      "outputs": [
        {
          "output_type": "execute_result",
          "data": {
            "text/html": [
              "<div>\n",
              "<style scoped>\n",
              "    .dataframe tbody tr th:only-of-type {\n",
              "        vertical-align: middle;\n",
              "    }\n",
              "\n",
              "    .dataframe tbody tr th {\n",
              "        vertical-align: top;\n",
              "    }\n",
              "\n",
              "    .dataframe thead th {\n",
              "        text-align: right;\n",
              "    }\n",
              "</style>\n",
              "<table border=\"1\" class=\"dataframe\">\n",
              "  <thead>\n",
              "    <tr style=\"text-align: right;\">\n",
              "      <th></th>\n",
              "      <th></th>\n",
              "      <th></th>\n",
              "      <th>y_test</th>\n",
              "      <th>rounded</th>\n",
              "      <th>pred</th>\n",
              "    </tr>\n",
              "    <tr>\n",
              "      <th>item_id</th>\n",
              "      <th>store_id</th>\n",
              "      <th>week_number</th>\n",
              "      <th></th>\n",
              "      <th></th>\n",
              "      <th></th>\n",
              "    </tr>\n",
              "  </thead>\n",
              "  <tbody>\n",
              "    <tr>\n",
              "      <th rowspan=\"5\" valign=\"top\">HOBBIES_2_007</th>\n",
              "      <th rowspan=\"3\" valign=\"top\">TX_3</th>\n",
              "      <th>16</th>\n",
              "      <td>0</td>\n",
              "      <td>7.0</td>\n",
              "      <td>9.642077</td>\n",
              "    </tr>\n",
              "    <tr>\n",
              "      <th>15</th>\n",
              "      <td>1</td>\n",
              "      <td>7.0</td>\n",
              "      <td>9.448105</td>\n",
              "    </tr>\n",
              "    <tr>\n",
              "      <th>14</th>\n",
              "      <td>1</td>\n",
              "      <td>7.0</td>\n",
              "      <td>9.207363</td>\n",
              "    </tr>\n",
              "    <tr>\n",
              "      <th rowspan=\"2\" valign=\"top\">TX_2</th>\n",
              "      <th>16</th>\n",
              "      <td>1</td>\n",
              "      <td>7.0</td>\n",
              "      <td>9.015339</td>\n",
              "    </tr>\n",
              "    <tr>\n",
              "      <th>15</th>\n",
              "      <td>1</td>\n",
              "      <td>7.0</td>\n",
              "      <td>8.763023</td>\n",
              "    </tr>\n",
              "  </tbody>\n",
              "</table>\n",
              "</div>"
            ],
            "text/plain": [
              "                                    y_test  rounded      pred\n",
              "item_id       store_id week_number                           \n",
              "HOBBIES_2_007 TX_3     16                0      7.0  9.642077\n",
              "                       15                1      7.0  9.448105\n",
              "                       14                1      7.0  9.207363\n",
              "              TX_2     16                1      7.0  9.015339\n",
              "                       15                1      7.0  8.763023"
            ]
          },
          "metadata": {
            "tags": []
          },
          "execution_count": 62
        }
      ]
    },
    {
      "cell_type": "code",
      "metadata": {
        "id": "Zu8_WlKbdiOH",
        "colab_type": "code",
        "colab": {
          "base_uri": "https://localhost:8080/",
          "height": 238
        },
        "outputId": "cf13d296-b832-4488-d809-150d0a5bcf88"
      },
      "source": [
        "weekly.nsmallest(5, columns='y_test', keep='first')"
      ],
      "execution_count": 63,
      "outputs": [
        {
          "output_type": "execute_result",
          "data": {
            "text/html": [
              "<div>\n",
              "<style scoped>\n",
              "    .dataframe tbody tr th:only-of-type {\n",
              "        vertical-align: middle;\n",
              "    }\n",
              "\n",
              "    .dataframe tbody tr th {\n",
              "        vertical-align: top;\n",
              "    }\n",
              "\n",
              "    .dataframe thead th {\n",
              "        text-align: right;\n",
              "    }\n",
              "</style>\n",
              "<table border=\"1\" class=\"dataframe\">\n",
              "  <thead>\n",
              "    <tr style=\"text-align: right;\">\n",
              "      <th></th>\n",
              "      <th></th>\n",
              "      <th></th>\n",
              "      <th>y_test</th>\n",
              "      <th>rounded</th>\n",
              "      <th>pred</th>\n",
              "    </tr>\n",
              "    <tr>\n",
              "      <th>item_id</th>\n",
              "      <th>store_id</th>\n",
              "      <th>week_number</th>\n",
              "      <th></th>\n",
              "      <th></th>\n",
              "      <th></th>\n",
              "    </tr>\n",
              "  </thead>\n",
              "  <tbody>\n",
              "    <tr>\n",
              "      <th rowspan=\"5\" valign=\"top\">HOBBIES_2_001</th>\n",
              "      <th rowspan=\"2\" valign=\"top\">CA_1</th>\n",
              "      <th>9</th>\n",
              "      <td>0</td>\n",
              "      <td>0.0</td>\n",
              "      <td>0.548775</td>\n",
              "    </tr>\n",
              "    <tr>\n",
              "      <th>12</th>\n",
              "      <td>0</td>\n",
              "      <td>0.0</td>\n",
              "      <td>0.638502</td>\n",
              "    </tr>\n",
              "    <tr>\n",
              "      <th rowspan=\"3\" valign=\"top\">CA_2</th>\n",
              "      <th>9</th>\n",
              "      <td>0</td>\n",
              "      <td>0.0</td>\n",
              "      <td>0.525771</td>\n",
              "    </tr>\n",
              "    <tr>\n",
              "      <th>10</th>\n",
              "      <td>0</td>\n",
              "      <td>0.0</td>\n",
              "      <td>0.613009</td>\n",
              "    </tr>\n",
              "    <tr>\n",
              "      <th>11</th>\n",
              "      <td>0</td>\n",
              "      <td>0.0</td>\n",
              "      <td>0.612755</td>\n",
              "    </tr>\n",
              "  </tbody>\n",
              "</table>\n",
              "</div>"
            ],
            "text/plain": [
              "                                    y_test  rounded      pred\n",
              "item_id       store_id week_number                           \n",
              "HOBBIES_2_001 CA_1     9                 0      0.0  0.548775\n",
              "                       12                0      0.0  0.638502\n",
              "              CA_2     9                 0      0.0  0.525771\n",
              "                       10                0      0.0  0.613009\n",
              "                       11                0      0.0  0.612755"
            ]
          },
          "metadata": {
            "tags": []
          },
          "execution_count": 63
        }
      ]
    },
    {
      "cell_type": "code",
      "metadata": {
        "id": "hZEAb270d0td",
        "colab_type": "code",
        "colab": {
          "base_uri": "https://localhost:8080/",
          "height": 238
        },
        "outputId": "390e9875-1b41-4207-ef0d-4a48d12ead2a"
      },
      "source": [
        "weekly.nsmallest(5, columns='pred', keep='first')"
      ],
      "execution_count": 64,
      "outputs": [
        {
          "output_type": "execute_result",
          "data": {
            "text/html": [
              "<div>\n",
              "<style scoped>\n",
              "    .dataframe tbody tr th:only-of-type {\n",
              "        vertical-align: middle;\n",
              "    }\n",
              "\n",
              "    .dataframe tbody tr th {\n",
              "        vertical-align: top;\n",
              "    }\n",
              "\n",
              "    .dataframe thead th {\n",
              "        text-align: right;\n",
              "    }\n",
              "</style>\n",
              "<table border=\"1\" class=\"dataframe\">\n",
              "  <thead>\n",
              "    <tr style=\"text-align: right;\">\n",
              "      <th></th>\n",
              "      <th></th>\n",
              "      <th></th>\n",
              "      <th>y_test</th>\n",
              "      <th>rounded</th>\n",
              "      <th>pred</th>\n",
              "    </tr>\n",
              "    <tr>\n",
              "      <th>item_id</th>\n",
              "      <th>store_id</th>\n",
              "      <th>week_number</th>\n",
              "      <th></th>\n",
              "      <th></th>\n",
              "      <th></th>\n",
              "    </tr>\n",
              "  </thead>\n",
              "  <tbody>\n",
              "    <tr>\n",
              "      <th rowspan=\"5\" valign=\"top\">HOBBIES_2_001</th>\n",
              "      <th>CA_4</th>\n",
              "      <th>9</th>\n",
              "      <td>0</td>\n",
              "      <td>0.0</td>\n",
              "      <td>0.508497</td>\n",
              "    </tr>\n",
              "    <tr>\n",
              "      <th>CA_3</th>\n",
              "      <th>9</th>\n",
              "      <td>1</td>\n",
              "      <td>0.0</td>\n",
              "      <td>0.509461</td>\n",
              "    </tr>\n",
              "    <tr>\n",
              "      <th>CA_2</th>\n",
              "      <th>9</th>\n",
              "      <td>0</td>\n",
              "      <td>0.0</td>\n",
              "      <td>0.525771</td>\n",
              "    </tr>\n",
              "    <tr>\n",
              "      <th>CA_1</th>\n",
              "      <th>9</th>\n",
              "      <td>0</td>\n",
              "      <td>0.0</td>\n",
              "      <td>0.548775</td>\n",
              "    </tr>\n",
              "    <tr>\n",
              "      <th>TX_1</th>\n",
              "      <th>9</th>\n",
              "      <td>0</td>\n",
              "      <td>0.0</td>\n",
              "      <td>0.564402</td>\n",
              "    </tr>\n",
              "  </tbody>\n",
              "</table>\n",
              "</div>"
            ],
            "text/plain": [
              "                                    y_test  rounded      pred\n",
              "item_id       store_id week_number                           \n",
              "HOBBIES_2_001 CA_4     9                 0      0.0  0.508497\n",
              "              CA_3     9                 1      0.0  0.509461\n",
              "              CA_2     9                 0      0.0  0.525771\n",
              "              CA_1     9                 0      0.0  0.548775\n",
              "              TX_1     9                 0      0.0  0.564402"
            ]
          },
          "metadata": {
            "tags": []
          },
          "execution_count": 64
        }
      ]
    },
    {
      "cell_type": "code",
      "metadata": {
        "id": "pw5ZkSx_d6Rf",
        "colab_type": "code",
        "colab": {}
      },
      "source": [
        "total_prod = weekly.groupby(by=['item_id', 'store_id']).sum()"
      ],
      "execution_count": 65,
      "outputs": []
    },
    {
      "cell_type": "code",
      "metadata": {
        "id": "N9G9Z7_TfBE_",
        "colab_type": "code",
        "colab": {
          "base_uri": "https://localhost:8080/",
          "height": 455
        },
        "outputId": "ccf3cc2e-d162-4c2e-ccbc-02cc45d9a7b4"
      },
      "source": [
        "total_prod"
      ],
      "execution_count": 66,
      "outputs": [
        {
          "output_type": "execute_result",
          "data": {
            "text/html": [
              "<div>\n",
              "<style scoped>\n",
              "    .dataframe tbody tr th:only-of-type {\n",
              "        vertical-align: middle;\n",
              "    }\n",
              "\n",
              "    .dataframe tbody tr th {\n",
              "        vertical-align: top;\n",
              "    }\n",
              "\n",
              "    .dataframe thead th {\n",
              "        text-align: right;\n",
              "    }\n",
              "</style>\n",
              "<table border=\"1\" class=\"dataframe\">\n",
              "  <thead>\n",
              "    <tr style=\"text-align: right;\">\n",
              "      <th></th>\n",
              "      <th></th>\n",
              "      <th>y_test</th>\n",
              "      <th>rounded</th>\n",
              "      <th>pred</th>\n",
              "    </tr>\n",
              "    <tr>\n",
              "      <th>item_id</th>\n",
              "      <th>store_id</th>\n",
              "      <th></th>\n",
              "      <th></th>\n",
              "      <th></th>\n",
              "    </tr>\n",
              "  </thead>\n",
              "  <tbody>\n",
              "    <tr>\n",
              "      <th rowspan=\"5\" valign=\"top\">HOBBIES_2_001</th>\n",
              "      <th>CA_1</th>\n",
              "      <td>9.0</td>\n",
              "      <td>0.0</td>\n",
              "      <td>5.020352</td>\n",
              "    </tr>\n",
              "    <tr>\n",
              "      <th>CA_2</th>\n",
              "      <td>1.0</td>\n",
              "      <td>0.0</td>\n",
              "      <td>4.799180</td>\n",
              "    </tr>\n",
              "    <tr>\n",
              "      <th>CA_3</th>\n",
              "      <td>4.0</td>\n",
              "      <td>0.0</td>\n",
              "      <td>4.643863</td>\n",
              "    </tr>\n",
              "    <tr>\n",
              "      <th>CA_4</th>\n",
              "      <td>2.0</td>\n",
              "      <td>0.0</td>\n",
              "      <td>4.608061</td>\n",
              "    </tr>\n",
              "    <tr>\n",
              "      <th>TX_1</th>\n",
              "      <td>2.0</td>\n",
              "      <td>0.0</td>\n",
              "      <td>4.982809</td>\n",
              "    </tr>\n",
              "    <tr>\n",
              "      <th>...</th>\n",
              "      <th>...</th>\n",
              "      <td>...</td>\n",
              "      <td>...</td>\n",
              "      <td>...</td>\n",
              "    </tr>\n",
              "    <tr>\n",
              "      <th rowspan=\"5\" valign=\"top\">HOBBIES_2_149</th>\n",
              "      <th>TX_2</th>\n",
              "      <td>36.0</td>\n",
              "      <td>1.0</td>\n",
              "      <td>23.360622</td>\n",
              "    </tr>\n",
              "    <tr>\n",
              "      <th>TX_3</th>\n",
              "      <td>22.0</td>\n",
              "      <td>0.0</td>\n",
              "      <td>22.678087</td>\n",
              "    </tr>\n",
              "    <tr>\n",
              "      <th>WI_1</th>\n",
              "      <td>13.0</td>\n",
              "      <td>0.0</td>\n",
              "      <td>21.951481</td>\n",
              "    </tr>\n",
              "    <tr>\n",
              "      <th>WI_2</th>\n",
              "      <td>15.0</td>\n",
              "      <td>0.0</td>\n",
              "      <td>21.170826</td>\n",
              "    </tr>\n",
              "    <tr>\n",
              "      <th>WI_3</th>\n",
              "      <td>15.0</td>\n",
              "      <td>0.0</td>\n",
              "      <td>20.318922</td>\n",
              "    </tr>\n",
              "  </tbody>\n",
              "</table>\n",
              "<p>1490 rows × 3 columns</p>\n",
              "</div>"
            ],
            "text/plain": [
              "                        y_test  rounded       pred\n",
              "item_id       store_id                            \n",
              "HOBBIES_2_001 CA_1         9.0      0.0   5.020352\n",
              "              CA_2         1.0      0.0   4.799180\n",
              "              CA_3         4.0      0.0   4.643863\n",
              "              CA_4         2.0      0.0   4.608061\n",
              "              TX_1         2.0      0.0   4.982809\n",
              "...                        ...      ...        ...\n",
              "HOBBIES_2_149 TX_2        36.0      1.0  23.360622\n",
              "              TX_3        22.0      0.0  22.678087\n",
              "              WI_1        13.0      0.0  21.951481\n",
              "              WI_2        15.0      0.0  21.170826\n",
              "              WI_3        15.0      0.0  20.318922\n",
              "\n",
              "[1490 rows x 3 columns]"
            ]
          },
          "metadata": {
            "tags": []
          },
          "execution_count": 66
        }
      ]
    },
    {
      "cell_type": "code",
      "metadata": {
        "id": "IdrjsIfZfDHn",
        "colab_type": "code",
        "colab": {
          "base_uri": "https://localhost:8080/",
          "height": 238
        },
        "outputId": "18b9dc40-5c59-4d85-d9be-d479b4565830"
      },
      "source": [
        "total_prod.nlargest(5, columns='y_test', keep='first')"
      ],
      "execution_count": 67,
      "outputs": [
        {
          "output_type": "execute_result",
          "data": {
            "text/html": [
              "<div>\n",
              "<style scoped>\n",
              "    .dataframe tbody tr th:only-of-type {\n",
              "        vertical-align: middle;\n",
              "    }\n",
              "\n",
              "    .dataframe tbody tr th {\n",
              "        vertical-align: top;\n",
              "    }\n",
              "\n",
              "    .dataframe thead th {\n",
              "        text-align: right;\n",
              "    }\n",
              "</style>\n",
              "<table border=\"1\" class=\"dataframe\">\n",
              "  <thead>\n",
              "    <tr style=\"text-align: right;\">\n",
              "      <th></th>\n",
              "      <th></th>\n",
              "      <th>y_test</th>\n",
              "      <th>rounded</th>\n",
              "      <th>pred</th>\n",
              "    </tr>\n",
              "    <tr>\n",
              "      <th>item_id</th>\n",
              "      <th>store_id</th>\n",
              "      <th></th>\n",
              "      <th></th>\n",
              "      <th></th>\n",
              "    </tr>\n",
              "  </thead>\n",
              "  <tbody>\n",
              "    <tr>\n",
              "      <th>HOBBIES_2_075</th>\n",
              "      <th>CA_3</th>\n",
              "      <td>171.0</td>\n",
              "      <td>0.0</td>\n",
              "      <td>13.055459</td>\n",
              "    </tr>\n",
              "    <tr>\n",
              "      <th rowspan=\"4\" valign=\"top\">HOBBIES_2_043</th>\n",
              "      <th>CA_3</th>\n",
              "      <td>126.0</td>\n",
              "      <td>1.0</td>\n",
              "      <td>18.049553</td>\n",
              "    </tr>\n",
              "    <tr>\n",
              "      <th>TX_2</th>\n",
              "      <td>118.0</td>\n",
              "      <td>0.0</td>\n",
              "      <td>17.086561</td>\n",
              "    </tr>\n",
              "    <tr>\n",
              "      <th>TX_3</th>\n",
              "      <td>116.0</td>\n",
              "      <td>0.0</td>\n",
              "      <td>17.105015</td>\n",
              "    </tr>\n",
              "    <tr>\n",
              "      <th>CA_1</th>\n",
              "      <td>114.0</td>\n",
              "      <td>4.0</td>\n",
              "      <td>18.636974</td>\n",
              "    </tr>\n",
              "  </tbody>\n",
              "</table>\n",
              "</div>"
            ],
            "text/plain": [
              "                        y_test  rounded       pred\n",
              "item_id       store_id                            \n",
              "HOBBIES_2_075 CA_3       171.0      0.0  13.055459\n",
              "HOBBIES_2_043 CA_3       126.0      1.0  18.049553\n",
              "              TX_2       118.0      0.0  17.086561\n",
              "              TX_3       116.0      0.0  17.105015\n",
              "              CA_1       114.0      4.0  18.636974"
            ]
          },
          "metadata": {
            "tags": []
          },
          "execution_count": 67
        }
      ]
    },
    {
      "cell_type": "code",
      "metadata": {
        "id": "19R-tkmHfbxs",
        "colab_type": "code",
        "colab": {
          "base_uri": "https://localhost:8080/",
          "height": 238
        },
        "outputId": "a7326473-c18f-4c91-bac1-6b1302c72342"
      },
      "source": [
        "total_prod.nlargest(5, columns='pred', keep='first')"
      ],
      "execution_count": 69,
      "outputs": [
        {
          "output_type": "execute_result",
          "data": {
            "text/html": [
              "<div>\n",
              "<style scoped>\n",
              "    .dataframe tbody tr th:only-of-type {\n",
              "        vertical-align: middle;\n",
              "    }\n",
              "\n",
              "    .dataframe tbody tr th {\n",
              "        vertical-align: top;\n",
              "    }\n",
              "\n",
              "    .dataframe thead th {\n",
              "        text-align: right;\n",
              "    }\n",
              "</style>\n",
              "<table border=\"1\" class=\"dataframe\">\n",
              "  <thead>\n",
              "    <tr style=\"text-align: right;\">\n",
              "      <th></th>\n",
              "      <th></th>\n",
              "      <th>y_test</th>\n",
              "      <th>rounded</th>\n",
              "      <th>pred</th>\n",
              "    </tr>\n",
              "    <tr>\n",
              "      <th>item_id</th>\n",
              "      <th>store_id</th>\n",
              "      <th></th>\n",
              "      <th></th>\n",
              "      <th></th>\n",
              "    </tr>\n",
              "  </thead>\n",
              "  <tbody>\n",
              "    <tr>\n",
              "      <th rowspan=\"2\" valign=\"top\">HOBBIES_2_007</th>\n",
              "      <th>TX_3</th>\n",
              "      <td>17.0</td>\n",
              "      <td>55.0</td>\n",
              "      <td>58.559299</td>\n",
              "    </tr>\n",
              "    <tr>\n",
              "      <th>TX_2</th>\n",
              "      <td>19.0</td>\n",
              "      <td>55.0</td>\n",
              "      <td>50.816540</td>\n",
              "    </tr>\n",
              "    <tr>\n",
              "      <th rowspan=\"2\" valign=\"top\">HOBBIES_2_059</th>\n",
              "      <th>CA_1</th>\n",
              "      <td>54.0</td>\n",
              "      <td>55.0</td>\n",
              "      <td>48.006489</td>\n",
              "    </tr>\n",
              "    <tr>\n",
              "      <th>CA_2</th>\n",
              "      <td>46.0</td>\n",
              "      <td>55.0</td>\n",
              "      <td>47.564163</td>\n",
              "    </tr>\n",
              "    <tr>\n",
              "      <th>HOBBIES_2_007</th>\n",
              "      <th>CA_1</th>\n",
              "      <td>20.0</td>\n",
              "      <td>46.0</td>\n",
              "      <td>46.416355</td>\n",
              "    </tr>\n",
              "  </tbody>\n",
              "</table>\n",
              "</div>"
            ],
            "text/plain": [
              "                        y_test  rounded       pred\n",
              "item_id       store_id                            \n",
              "HOBBIES_2_007 TX_3        17.0     55.0  58.559299\n",
              "              TX_2        19.0     55.0  50.816540\n",
              "HOBBIES_2_059 CA_1        54.0     55.0  48.006489\n",
              "              CA_2        46.0     55.0  47.564163\n",
              "HOBBIES_2_007 CA_1        20.0     46.0  46.416355"
            ]
          },
          "metadata": {
            "tags": []
          },
          "execution_count": 69
        }
      ]
    },
    {
      "cell_type": "code",
      "metadata": {
        "id": "5AXyesHrfgWo",
        "colab_type": "code",
        "colab": {}
      },
      "source": [
        ""
      ],
      "execution_count": null,
      "outputs": []
    }
  ]
}