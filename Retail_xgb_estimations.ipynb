{
  "nbformat": 4,
  "nbformat_minor": 0,
  "metadata": {
    "colab": {
      "name": "Retail_xgb_estimations.ipynb",
      "provenance": [],
      "collapsed_sections": [],
      "include_colab_link": true
    },
    "kernelspec": {
      "name": "python3",
      "display_name": "Python 3"
    },
    "accelerator": "TPU"
  },
  "cells": [
    {
      "cell_type": "markdown",
      "metadata": {
        "id": "view-in-github",
        "colab_type": "text"
      },
      "source": [
        "<a href=\"https://colab.research.google.com/github/Aviral-Aggarwal/Retail_models/blob/master/Retail_xgb_estimations.ipynb\" target=\"_parent\"><img src=\"https://colab.research.google.com/assets/colab-badge.svg\" alt=\"Open In Colab\"/></a>"
      ]
    },
    {
      "cell_type": "code",
      "metadata": {
        "id": "45oY7psAquP9",
        "colab_type": "code",
        "colab": {
          "base_uri": "https://localhost:8080/",
          "height": 124
        },
        "outputId": "7fe5ecc3-4c42-4f64-ef35-57fc6a8da5d8"
      },
      "source": [
        "from google.colab import drive\n",
        "drive.mount('/content/gdrive')"
      ],
      "execution_count": null,
      "outputs": [
        {
          "output_type": "stream",
          "text": [
            "Go to this URL in a browser: https://accounts.google.com/o/oauth2/auth?client_id=947318989803-6bn6qk8qdgf4n4g3pfee6491hc0brc4i.apps.googleusercontent.com&redirect_uri=urn%3aietf%3awg%3aoauth%3a2.0%3aoob&response_type=code&scope=email%20https%3a%2f%2fwww.googleapis.com%2fauth%2fdocs.test%20https%3a%2f%2fwww.googleapis.com%2fauth%2fdrive%20https%3a%2f%2fwww.googleapis.com%2fauth%2fdrive.photos.readonly%20https%3a%2f%2fwww.googleapis.com%2fauth%2fpeopleapi.readonly\n",
            "\n",
            "Enter your authorization code:\n",
            "··········\n",
            "Mounted at /content/gdrive\n"
          ],
          "name": "stdout"
        }
      ]
    },
    {
      "cell_type": "code",
      "metadata": {
        "id": "C3oVMrG9q26l",
        "colab_type": "code",
        "colab": {}
      },
      "source": [
        "#New version of numpy is there, using the upgraded one\n",
        "import numpy as np\n",
        "import pandas as pd\n",
        "import os, sys, gc, time, warnings, pickle, psutil, random\n",
        "import matplotlib.pyplot as plt\n",
        "%matplotlib inline\n",
        "\n",
        "from sklearn.preprocessing import LabelEncoder, StandardScaler, MinMaxScaler\n",
        "\n",
        "warnings.filterwarnings('ignore')"
      ],
      "execution_count": null,
      "outputs": []
    },
    {
      "cell_type": "code",
      "metadata": {
        "id": "JRnBtejprikv",
        "colab_type": "code",
        "colab": {}
      },
      "source": [
        "input_dir = '/content/gdrive/My Drive/m5-forecasting-accuracy/'\n",
        "\n",
        "#CHECK AGAIN HOW THIS IS WORKING, IS IT ZIP MECHANISM OR SOMETHING ELSE\n",
        "#Standard function, copied from stack exchange\n",
        "def reduce_mem_usage(df, verbose=False):\n",
        "    numerics = ['int16', 'int32', 'int64', 'float16', 'float32', 'float64']\n",
        "    start_mem = df.memory_usage().sum() / 1024**2    \n",
        "    for col in df.columns:\n",
        "        col_type = df[col].dtypes\n",
        "        if col_type in numerics: \n",
        "            c_min = df[col].min()\n",
        "            c_max = df[col].max()\n",
        "            if str(col_type)[:3] == 'int':\n",
        "                if c_min > np.iinfo(np.int8).min and c_max < np.iinfo(np.int8).max:\n",
        "                    df[col] = df[col].astype(np.int8)\n",
        "                elif c_min > np.iinfo(np.int16).min and c_max < np.iinfo(np.int16).max:\n",
        "                    df[col] = df[col].astype(np.int16)\n",
        "                elif c_min > np.iinfo(np.int32).min and c_max < np.iinfo(np.int32).max:\n",
        "                    df[col] = df[col].astype(np.int32)\n",
        "                elif c_min > np.iinfo(np.int64).min and c_max < np.iinfo(np.int64).max:\n",
        "                    df[col] = df[col].astype(np.int64)  \n",
        "            else:\n",
        "                if c_min > np.finfo(np.float16).min and c_max < np.finfo(np.float16).max:\n",
        "                    df[col] = df[col].astype(np.float16)\n",
        "                elif c_min > np.finfo(np.float32).min and c_max < np.finfo(np.float32).max:\n",
        "                    df[col] = df[col].astype(np.float32)\n",
        "                else:\n",
        "                    df[col] = df[col].astype(np.float64)    \n",
        "    end_mem = df.memory_usage().sum() / 1024**2\n",
        "    if verbose: print('Mem. usage decreased to {:5.2f} Mb ({:.1f}% reduction)'.format(end_mem, 100 * (start_mem - end_mem) / start_mem))\n",
        "    return df"
      ],
      "execution_count": null,
      "outputs": []
    },
    {
      "cell_type": "code",
      "metadata": {
        "id": "i-MKBsovrmyo",
        "colab_type": "code",
        "colab": {}
      },
      "source": [
        "def load_df(file_path):\n",
        "    t1 = time.time()\n",
        "    df = pd.read_csv(file_path)\n",
        "    df = reduce_mem_usage(df=df, verbose=True)\n",
        "    print('The shape of food_master is ', df.shape)\n",
        "    t2 = time.time()\n",
        "    print('\\nTime taken to load the DataFrame is:', (t2-t1))\n",
        "    return df"
      ],
      "execution_count": null,
      "outputs": []
    },
    {
      "cell_type": "code",
      "metadata": {
        "id": "dNAj9nlprqOu",
        "colab_type": "code",
        "colab": {
          "base_uri": "https://localhost:8080/",
          "height": 86
        },
        "outputId": "004185bc-a2df-4953-e8df-c59fd9a92407"
      },
      "source": [
        "#Don't load and run this one, start from loading food_xgb\n",
        "food = load_df(input_dir + 'food1_master.csv')"
      ],
      "execution_count": null,
      "outputs": [
        {
          "output_type": "stream",
          "text": [
            "Mem. usage decreased to 441.10 Mb (63.6% reduction)\n",
            "The shape of food_master is  (3530738, 45)\n",
            "\n",
            "Time taken to load the DataFrame is: 21.360494136810303\n"
          ],
          "name": "stdout"
        }
      ]
    },
    {
      "cell_type": "code",
      "metadata": {
        "id": "jwuZFu2xLpwC",
        "colab_type": "code",
        "colab": {
          "base_uri": "https://localhost:8080/",
          "height": 479
        },
        "outputId": "4e563fb0-09ae-4380-913b-917c5716c2e6"
      },
      "source": [
        "food"
      ],
      "execution_count": null,
      "outputs": [
        {
          "output_type": "execute_result",
          "data": {
            "text/html": [
              "<div>\n",
              "<style scoped>\n",
              "    .dataframe tbody tr th:only-of-type {\n",
              "        vertical-align: middle;\n",
              "    }\n",
              "\n",
              "    .dataframe tbody tr th {\n",
              "        vertical-align: top;\n",
              "    }\n",
              "\n",
              "    .dataframe thead th {\n",
              "        text-align: right;\n",
              "    }\n",
              "</style>\n",
              "<table border=\"1\" class=\"dataframe\">\n",
              "  <thead>\n",
              "    <tr style=\"text-align: right;\">\n",
              "      <th></th>\n",
              "      <th>Unnamed: 0</th>\n",
              "      <th>item_id</th>\n",
              "      <th>store_id</th>\n",
              "      <th>id</th>\n",
              "      <th>d</th>\n",
              "      <th>Quantity_sold</th>\n",
              "      <th>wm_yr_wk</th>\n",
              "      <th>sell_price</th>\n",
              "      <th>date</th>\n",
              "      <th>weekday</th>\n",
              "      <th>wday</th>\n",
              "      <th>month</th>\n",
              "      <th>year</th>\n",
              "      <th>mrp</th>\n",
              "      <th>discount</th>\n",
              "      <th>week_number</th>\n",
              "      <th>event_name_1</th>\n",
              "      <th>PresidentsDay</th>\n",
              "      <th>LentStart</th>\n",
              "      <th>LentWeek2</th>\n",
              "      <th>StPatricksDay</th>\n",
              "      <th>Purim End</th>\n",
              "      <th>OrthodoxEaster</th>\n",
              "      <th>Pesach End</th>\n",
              "      <th>Cinco De Mayo</th>\n",
              "      <th>Mother's day</th>\n",
              "      <th>MemorialDay</th>\n",
              "      <th>NBAFinalsStart</th>\n",
              "      <th>NBAFinalsEnd</th>\n",
              "      <th>Father's day</th>\n",
              "      <th>IndependenceDay</th>\n",
              "      <th>Ramadan starts</th>\n",
              "      <th>Eid al-Fitr</th>\n",
              "      <th>LaborDay</th>\n",
              "      <th>ColumbusDay</th>\n",
              "      <th>Halloween</th>\n",
              "      <th>EidAlAdha</th>\n",
              "      <th>VeteransDay</th>\n",
              "      <th>Thanksgiving</th>\n",
              "      <th>Christmas</th>\n",
              "      <th>Chanukah End</th>\n",
              "      <th>NewYear</th>\n",
              "      <th>OrthodoxChristmas</th>\n",
              "      <th>MartinLutherKingDay</th>\n",
              "      <th>Easter</th>\n",
              "    </tr>\n",
              "  </thead>\n",
              "  <tbody>\n",
              "    <tr>\n",
              "      <th>0</th>\n",
              "      <td>0</td>\n",
              "      <td>FOODS_1_001</td>\n",
              "      <td>CA_1</td>\n",
              "      <td>FOODS_1_001_CA_1_validation</td>\n",
              "      <td>d_1</td>\n",
              "      <td>3</td>\n",
              "      <td>11101</td>\n",
              "      <td>2.000000</td>\n",
              "      <td>2011-01-29</td>\n",
              "      <td>Saturday</td>\n",
              "      <td>1</td>\n",
              "      <td>1</td>\n",
              "      <td>2011</td>\n",
              "      <td>2.000000</td>\n",
              "      <td>0.0</td>\n",
              "      <td>4</td>\n",
              "      <td>NaN</td>\n",
              "      <td>NaN</td>\n",
              "      <td>NaN</td>\n",
              "      <td>NaN</td>\n",
              "      <td>NaN</td>\n",
              "      <td>NaN</td>\n",
              "      <td>NaN</td>\n",
              "      <td>NaN</td>\n",
              "      <td>NaN</td>\n",
              "      <td>NaN</td>\n",
              "      <td>NaN</td>\n",
              "      <td>NaN</td>\n",
              "      <td>NaN</td>\n",
              "      <td>NaN</td>\n",
              "      <td>NaN</td>\n",
              "      <td>NaN</td>\n",
              "      <td>NaN</td>\n",
              "      <td>NaN</td>\n",
              "      <td>NaN</td>\n",
              "      <td>NaN</td>\n",
              "      <td>NaN</td>\n",
              "      <td>NaN</td>\n",
              "      <td>NaN</td>\n",
              "      <td>NaN</td>\n",
              "      <td>NaN</td>\n",
              "      <td>NaN</td>\n",
              "      <td>NaN</td>\n",
              "      <td>NaN</td>\n",
              "      <td>NaN</td>\n",
              "    </tr>\n",
              "    <tr>\n",
              "      <th>1</th>\n",
              "      <td>1</td>\n",
              "      <td>FOODS_1_001</td>\n",
              "      <td>CA_1</td>\n",
              "      <td>FOODS_1_001_CA_1_validation</td>\n",
              "      <td>d_2</td>\n",
              "      <td>0</td>\n",
              "      <td>11101</td>\n",
              "      <td>2.000000</td>\n",
              "      <td>2011-01-30</td>\n",
              "      <td>Sunday</td>\n",
              "      <td>2</td>\n",
              "      <td>1</td>\n",
              "      <td>2011</td>\n",
              "      <td>2.000000</td>\n",
              "      <td>0.0</td>\n",
              "      <td>4</td>\n",
              "      <td>NaN</td>\n",
              "      <td>NaN</td>\n",
              "      <td>NaN</td>\n",
              "      <td>NaN</td>\n",
              "      <td>NaN</td>\n",
              "      <td>NaN</td>\n",
              "      <td>NaN</td>\n",
              "      <td>NaN</td>\n",
              "      <td>NaN</td>\n",
              "      <td>NaN</td>\n",
              "      <td>NaN</td>\n",
              "      <td>NaN</td>\n",
              "      <td>NaN</td>\n",
              "      <td>NaN</td>\n",
              "      <td>NaN</td>\n",
              "      <td>NaN</td>\n",
              "      <td>NaN</td>\n",
              "      <td>NaN</td>\n",
              "      <td>NaN</td>\n",
              "      <td>NaN</td>\n",
              "      <td>NaN</td>\n",
              "      <td>NaN</td>\n",
              "      <td>NaN</td>\n",
              "      <td>NaN</td>\n",
              "      <td>NaN</td>\n",
              "      <td>NaN</td>\n",
              "      <td>NaN</td>\n",
              "      <td>NaN</td>\n",
              "      <td>NaN</td>\n",
              "    </tr>\n",
              "    <tr>\n",
              "      <th>2</th>\n",
              "      <td>2</td>\n",
              "      <td>FOODS_1_001</td>\n",
              "      <td>CA_1</td>\n",
              "      <td>FOODS_1_001_CA_1_validation</td>\n",
              "      <td>d_3</td>\n",
              "      <td>0</td>\n",
              "      <td>11101</td>\n",
              "      <td>2.000000</td>\n",
              "      <td>2011-01-31</td>\n",
              "      <td>Monday</td>\n",
              "      <td>3</td>\n",
              "      <td>1</td>\n",
              "      <td>2011</td>\n",
              "      <td>2.000000</td>\n",
              "      <td>0.0</td>\n",
              "      <td>5</td>\n",
              "      <td>NaN</td>\n",
              "      <td>-21.0</td>\n",
              "      <td>NaN</td>\n",
              "      <td>NaN</td>\n",
              "      <td>NaN</td>\n",
              "      <td>NaN</td>\n",
              "      <td>NaN</td>\n",
              "      <td>NaN</td>\n",
              "      <td>NaN</td>\n",
              "      <td>NaN</td>\n",
              "      <td>NaN</td>\n",
              "      <td>NaN</td>\n",
              "      <td>NaN</td>\n",
              "      <td>NaN</td>\n",
              "      <td>NaN</td>\n",
              "      <td>NaN</td>\n",
              "      <td>NaN</td>\n",
              "      <td>NaN</td>\n",
              "      <td>NaN</td>\n",
              "      <td>NaN</td>\n",
              "      <td>NaN</td>\n",
              "      <td>NaN</td>\n",
              "      <td>NaN</td>\n",
              "      <td>NaN</td>\n",
              "      <td>NaN</td>\n",
              "      <td>NaN</td>\n",
              "      <td>NaN</td>\n",
              "      <td>NaN</td>\n",
              "      <td>NaN</td>\n",
              "    </tr>\n",
              "    <tr>\n",
              "      <th>3</th>\n",
              "      <td>3</td>\n",
              "      <td>FOODS_1_001</td>\n",
              "      <td>CA_1</td>\n",
              "      <td>FOODS_1_001_CA_1_validation</td>\n",
              "      <td>d_4</td>\n",
              "      <td>1</td>\n",
              "      <td>11101</td>\n",
              "      <td>2.000000</td>\n",
              "      <td>2011-02-01</td>\n",
              "      <td>Tuesday</td>\n",
              "      <td>4</td>\n",
              "      <td>2</td>\n",
              "      <td>2011</td>\n",
              "      <td>2.000000</td>\n",
              "      <td>0.0</td>\n",
              "      <td>5</td>\n",
              "      <td>NaN</td>\n",
              "      <td>-20.0</td>\n",
              "      <td>NaN</td>\n",
              "      <td>NaN</td>\n",
              "      <td>NaN</td>\n",
              "      <td>NaN</td>\n",
              "      <td>NaN</td>\n",
              "      <td>NaN</td>\n",
              "      <td>NaN</td>\n",
              "      <td>NaN</td>\n",
              "      <td>NaN</td>\n",
              "      <td>NaN</td>\n",
              "      <td>NaN</td>\n",
              "      <td>NaN</td>\n",
              "      <td>NaN</td>\n",
              "      <td>NaN</td>\n",
              "      <td>NaN</td>\n",
              "      <td>NaN</td>\n",
              "      <td>NaN</td>\n",
              "      <td>NaN</td>\n",
              "      <td>NaN</td>\n",
              "      <td>NaN</td>\n",
              "      <td>NaN</td>\n",
              "      <td>NaN</td>\n",
              "      <td>NaN</td>\n",
              "      <td>NaN</td>\n",
              "      <td>NaN</td>\n",
              "      <td>NaN</td>\n",
              "      <td>NaN</td>\n",
              "    </tr>\n",
              "    <tr>\n",
              "      <th>4</th>\n",
              "      <td>4</td>\n",
              "      <td>FOODS_1_001</td>\n",
              "      <td>CA_1</td>\n",
              "      <td>FOODS_1_001_CA_1_validation</td>\n",
              "      <td>d_5</td>\n",
              "      <td>4</td>\n",
              "      <td>11101</td>\n",
              "      <td>2.000000</td>\n",
              "      <td>2011-02-02</td>\n",
              "      <td>Wednesday</td>\n",
              "      <td>5</td>\n",
              "      <td>2</td>\n",
              "      <td>2011</td>\n",
              "      <td>2.000000</td>\n",
              "      <td>0.0</td>\n",
              "      <td>5</td>\n",
              "      <td>NaN</td>\n",
              "      <td>-19.0</td>\n",
              "      <td>NaN</td>\n",
              "      <td>NaN</td>\n",
              "      <td>NaN</td>\n",
              "      <td>NaN</td>\n",
              "      <td>NaN</td>\n",
              "      <td>NaN</td>\n",
              "      <td>NaN</td>\n",
              "      <td>NaN</td>\n",
              "      <td>NaN</td>\n",
              "      <td>NaN</td>\n",
              "      <td>NaN</td>\n",
              "      <td>NaN</td>\n",
              "      <td>NaN</td>\n",
              "      <td>NaN</td>\n",
              "      <td>NaN</td>\n",
              "      <td>NaN</td>\n",
              "      <td>NaN</td>\n",
              "      <td>NaN</td>\n",
              "      <td>NaN</td>\n",
              "      <td>NaN</td>\n",
              "      <td>NaN</td>\n",
              "      <td>NaN</td>\n",
              "      <td>NaN</td>\n",
              "      <td>NaN</td>\n",
              "      <td>NaN</td>\n",
              "      <td>NaN</td>\n",
              "      <td>NaN</td>\n",
              "    </tr>\n",
              "    <tr>\n",
              "      <th>...</th>\n",
              "      <td>...</td>\n",
              "      <td>...</td>\n",
              "      <td>...</td>\n",
              "      <td>...</td>\n",
              "      <td>...</td>\n",
              "      <td>...</td>\n",
              "      <td>...</td>\n",
              "      <td>...</td>\n",
              "      <td>...</td>\n",
              "      <td>...</td>\n",
              "      <td>...</td>\n",
              "      <td>...</td>\n",
              "      <td>...</td>\n",
              "      <td>...</td>\n",
              "      <td>...</td>\n",
              "      <td>...</td>\n",
              "      <td>...</td>\n",
              "      <td>...</td>\n",
              "      <td>...</td>\n",
              "      <td>...</td>\n",
              "      <td>...</td>\n",
              "      <td>...</td>\n",
              "      <td>...</td>\n",
              "      <td>...</td>\n",
              "      <td>...</td>\n",
              "      <td>...</td>\n",
              "      <td>...</td>\n",
              "      <td>...</td>\n",
              "      <td>...</td>\n",
              "      <td>...</td>\n",
              "      <td>...</td>\n",
              "      <td>...</td>\n",
              "      <td>...</td>\n",
              "      <td>...</td>\n",
              "      <td>...</td>\n",
              "      <td>...</td>\n",
              "      <td>...</td>\n",
              "      <td>...</td>\n",
              "      <td>...</td>\n",
              "      <td>...</td>\n",
              "      <td>...</td>\n",
              "      <td>...</td>\n",
              "      <td>...</td>\n",
              "      <td>...</td>\n",
              "      <td>...</td>\n",
              "    </tr>\n",
              "    <tr>\n",
              "      <th>3530733</th>\n",
              "      <td>3530733</td>\n",
              "      <td>FOODS_1_219</td>\n",
              "      <td>WI_3</td>\n",
              "      <td>FOODS_1_219_WI_3_validation</td>\n",
              "      <td>d_1909</td>\n",
              "      <td>0</td>\n",
              "      <td>11612</td>\n",
              "      <td>2.240234</td>\n",
              "      <td>2016-04-20</td>\n",
              "      <td>Wednesday</td>\n",
              "      <td>5</td>\n",
              "      <td>4</td>\n",
              "      <td>2016</td>\n",
              "      <td>2.240234</td>\n",
              "      <td>0.0</td>\n",
              "      <td>16</td>\n",
              "      <td>NaN</td>\n",
              "      <td>NaN</td>\n",
              "      <td>NaN</td>\n",
              "      <td>NaN</td>\n",
              "      <td>NaN</td>\n",
              "      <td>NaN</td>\n",
              "      <td>NaN</td>\n",
              "      <td>NaN</td>\n",
              "      <td>NaN</td>\n",
              "      <td>NaN</td>\n",
              "      <td>NaN</td>\n",
              "      <td>NaN</td>\n",
              "      <td>NaN</td>\n",
              "      <td>NaN</td>\n",
              "      <td>NaN</td>\n",
              "      <td>NaN</td>\n",
              "      <td>NaN</td>\n",
              "      <td>NaN</td>\n",
              "      <td>NaN</td>\n",
              "      <td>NaN</td>\n",
              "      <td>NaN</td>\n",
              "      <td>NaN</td>\n",
              "      <td>NaN</td>\n",
              "      <td>NaN</td>\n",
              "      <td>NaN</td>\n",
              "      <td>NaN</td>\n",
              "      <td>NaN</td>\n",
              "      <td>NaN</td>\n",
              "      <td>NaN</td>\n",
              "    </tr>\n",
              "    <tr>\n",
              "      <th>3530734</th>\n",
              "      <td>3530734</td>\n",
              "      <td>FOODS_1_219</td>\n",
              "      <td>WI_3</td>\n",
              "      <td>FOODS_1_219_WI_3_validation</td>\n",
              "      <td>d_1910</td>\n",
              "      <td>2</td>\n",
              "      <td>11612</td>\n",
              "      <td>2.240234</td>\n",
              "      <td>2016-04-21</td>\n",
              "      <td>Thursday</td>\n",
              "      <td>6</td>\n",
              "      <td>4</td>\n",
              "      <td>2016</td>\n",
              "      <td>2.240234</td>\n",
              "      <td>0.0</td>\n",
              "      <td>16</td>\n",
              "      <td>NaN</td>\n",
              "      <td>NaN</td>\n",
              "      <td>NaN</td>\n",
              "      <td>NaN</td>\n",
              "      <td>NaN</td>\n",
              "      <td>NaN</td>\n",
              "      <td>NaN</td>\n",
              "      <td>NaN</td>\n",
              "      <td>NaN</td>\n",
              "      <td>NaN</td>\n",
              "      <td>NaN</td>\n",
              "      <td>NaN</td>\n",
              "      <td>NaN</td>\n",
              "      <td>NaN</td>\n",
              "      <td>NaN</td>\n",
              "      <td>NaN</td>\n",
              "      <td>NaN</td>\n",
              "      <td>NaN</td>\n",
              "      <td>NaN</td>\n",
              "      <td>NaN</td>\n",
              "      <td>NaN</td>\n",
              "      <td>NaN</td>\n",
              "      <td>NaN</td>\n",
              "      <td>NaN</td>\n",
              "      <td>NaN</td>\n",
              "      <td>NaN</td>\n",
              "      <td>NaN</td>\n",
              "      <td>NaN</td>\n",
              "      <td>NaN</td>\n",
              "    </tr>\n",
              "    <tr>\n",
              "      <th>3530735</th>\n",
              "      <td>3530735</td>\n",
              "      <td>FOODS_1_219</td>\n",
              "      <td>WI_3</td>\n",
              "      <td>FOODS_1_219_WI_3_validation</td>\n",
              "      <td>d_1911</td>\n",
              "      <td>2</td>\n",
              "      <td>11612</td>\n",
              "      <td>2.240234</td>\n",
              "      <td>2016-04-22</td>\n",
              "      <td>Friday</td>\n",
              "      <td>7</td>\n",
              "      <td>4</td>\n",
              "      <td>2016</td>\n",
              "      <td>2.240234</td>\n",
              "      <td>0.0</td>\n",
              "      <td>16</td>\n",
              "      <td>NaN</td>\n",
              "      <td>NaN</td>\n",
              "      <td>NaN</td>\n",
              "      <td>NaN</td>\n",
              "      <td>NaN</td>\n",
              "      <td>NaN</td>\n",
              "      <td>NaN</td>\n",
              "      <td>NaN</td>\n",
              "      <td>NaN</td>\n",
              "      <td>NaN</td>\n",
              "      <td>NaN</td>\n",
              "      <td>NaN</td>\n",
              "      <td>NaN</td>\n",
              "      <td>NaN</td>\n",
              "      <td>NaN</td>\n",
              "      <td>NaN</td>\n",
              "      <td>NaN</td>\n",
              "      <td>NaN</td>\n",
              "      <td>NaN</td>\n",
              "      <td>NaN</td>\n",
              "      <td>NaN</td>\n",
              "      <td>NaN</td>\n",
              "      <td>NaN</td>\n",
              "      <td>NaN</td>\n",
              "      <td>NaN</td>\n",
              "      <td>NaN</td>\n",
              "      <td>NaN</td>\n",
              "      <td>NaN</td>\n",
              "      <td>NaN</td>\n",
              "    </tr>\n",
              "    <tr>\n",
              "      <th>3530736</th>\n",
              "      <td>3530736</td>\n",
              "      <td>FOODS_1_219</td>\n",
              "      <td>WI_3</td>\n",
              "      <td>FOODS_1_219_WI_3_validation</td>\n",
              "      <td>d_1912</td>\n",
              "      <td>2</td>\n",
              "      <td>11613</td>\n",
              "      <td>2.240234</td>\n",
              "      <td>2016-04-23</td>\n",
              "      <td>Saturday</td>\n",
              "      <td>1</td>\n",
              "      <td>4</td>\n",
              "      <td>2016</td>\n",
              "      <td>2.240234</td>\n",
              "      <td>0.0</td>\n",
              "      <td>16</td>\n",
              "      <td>NaN</td>\n",
              "      <td>NaN</td>\n",
              "      <td>NaN</td>\n",
              "      <td>NaN</td>\n",
              "      <td>NaN</td>\n",
              "      <td>NaN</td>\n",
              "      <td>NaN</td>\n",
              "      <td>NaN</td>\n",
              "      <td>NaN</td>\n",
              "      <td>NaN</td>\n",
              "      <td>NaN</td>\n",
              "      <td>NaN</td>\n",
              "      <td>NaN</td>\n",
              "      <td>NaN</td>\n",
              "      <td>NaN</td>\n",
              "      <td>NaN</td>\n",
              "      <td>NaN</td>\n",
              "      <td>NaN</td>\n",
              "      <td>NaN</td>\n",
              "      <td>NaN</td>\n",
              "      <td>NaN</td>\n",
              "      <td>NaN</td>\n",
              "      <td>NaN</td>\n",
              "      <td>NaN</td>\n",
              "      <td>NaN</td>\n",
              "      <td>NaN</td>\n",
              "      <td>NaN</td>\n",
              "      <td>NaN</td>\n",
              "      <td>NaN</td>\n",
              "    </tr>\n",
              "    <tr>\n",
              "      <th>3530737</th>\n",
              "      <td>3530737</td>\n",
              "      <td>FOODS_1_219</td>\n",
              "      <td>WI_3</td>\n",
              "      <td>FOODS_1_219_WI_3_validation</td>\n",
              "      <td>d_1913</td>\n",
              "      <td>5</td>\n",
              "      <td>11613</td>\n",
              "      <td>2.240234</td>\n",
              "      <td>2016-04-24</td>\n",
              "      <td>Sunday</td>\n",
              "      <td>2</td>\n",
              "      <td>4</td>\n",
              "      <td>2016</td>\n",
              "      <td>2.240234</td>\n",
              "      <td>0.0</td>\n",
              "      <td>16</td>\n",
              "      <td>NaN</td>\n",
              "      <td>NaN</td>\n",
              "      <td>NaN</td>\n",
              "      <td>NaN</td>\n",
              "      <td>NaN</td>\n",
              "      <td>NaN</td>\n",
              "      <td>NaN</td>\n",
              "      <td>NaN</td>\n",
              "      <td>NaN</td>\n",
              "      <td>NaN</td>\n",
              "      <td>NaN</td>\n",
              "      <td>NaN</td>\n",
              "      <td>NaN</td>\n",
              "      <td>NaN</td>\n",
              "      <td>NaN</td>\n",
              "      <td>NaN</td>\n",
              "      <td>NaN</td>\n",
              "      <td>NaN</td>\n",
              "      <td>NaN</td>\n",
              "      <td>NaN</td>\n",
              "      <td>NaN</td>\n",
              "      <td>NaN</td>\n",
              "      <td>NaN</td>\n",
              "      <td>NaN</td>\n",
              "      <td>NaN</td>\n",
              "      <td>NaN</td>\n",
              "      <td>NaN</td>\n",
              "      <td>NaN</td>\n",
              "      <td>NaN</td>\n",
              "    </tr>\n",
              "  </tbody>\n",
              "</table>\n",
              "<p>3530738 rows × 45 columns</p>\n",
              "</div>"
            ],
            "text/plain": [
              "         Unnamed: 0      item_id  ... MartinLutherKingDay Easter\n",
              "0                 0  FOODS_1_001  ...                 NaN    NaN\n",
              "1                 1  FOODS_1_001  ...                 NaN    NaN\n",
              "2                 2  FOODS_1_001  ...                 NaN    NaN\n",
              "3                 3  FOODS_1_001  ...                 NaN    NaN\n",
              "4                 4  FOODS_1_001  ...                 NaN    NaN\n",
              "...             ...          ...  ...                 ...    ...\n",
              "3530733     3530733  FOODS_1_219  ...                 NaN    NaN\n",
              "3530734     3530734  FOODS_1_219  ...                 NaN    NaN\n",
              "3530735     3530735  FOODS_1_219  ...                 NaN    NaN\n",
              "3530736     3530736  FOODS_1_219  ...                 NaN    NaN\n",
              "3530737     3530737  FOODS_1_219  ...                 NaN    NaN\n",
              "\n",
              "[3530738 rows x 45 columns]"
            ]
          },
          "metadata": {
            "tags": []
          },
          "execution_count": 7
        }
      ]
    },
    {
      "cell_type": "markdown",
      "metadata": {
        "id": "ruydDsMPASKd",
        "colab_type": "text"
      },
      "source": [
        "I am dropping some of the columns for the following reasons:\n",
        "1. id: combination of item_id and store_id\n",
        "2. dept_id: name of the category\n",
        "3. weekday: wday is already present as a number\n",
        "4. wm_yr_wk_x, wm_yr_wk_y : a representation of the dates\n",
        "5. d_num: indirectly just sequencing of the time series data\n",
        "6. event_name_1: already converted into columns\n",
        "7. date_y: repeat column"
      ]
    },
    {
      "cell_type": "code",
      "metadata": {
        "id": "MLk5dFze0DPe",
        "colab_type": "code",
        "colab": {}
      },
      "source": [
        "food.drop(food.columns[0], axis=1, inplace=True)"
      ],
      "execution_count": null,
      "outputs": []
    },
    {
      "cell_type": "code",
      "metadata": {
        "id": "F-BRgAiu0Lrl",
        "colab_type": "code",
        "colab": {}
      },
      "source": [
        "food.drop(['id', 'd', 'wm_yr_wk', 'weekday', 'date'], axis=1, inplace=True)"
      ],
      "execution_count": null,
      "outputs": []
    },
    {
      "cell_type": "code",
      "metadata": {
        "id": "var0N7ObHM7L",
        "colab_type": "code",
        "colab": {}
      },
      "source": [
        "food_try = food.iloc[:, 0:11]"
      ],
      "execution_count": null,
      "outputs": []
    },
    {
      "cell_type": "code",
      "metadata": {
        "id": "r-ICpQXe0tTB",
        "colab_type": "code",
        "colab": {
          "base_uri": "https://localhost:8080/",
          "height": 424
        },
        "outputId": "c3f02ce6-041d-40ef-9893-6dd57ddaef9f"
      },
      "source": [
        "food_try"
      ],
      "execution_count": null,
      "outputs": [
        {
          "output_type": "execute_result",
          "data": {
            "text/html": [
              "<div>\n",
              "<style scoped>\n",
              "    .dataframe tbody tr th:only-of-type {\n",
              "        vertical-align: middle;\n",
              "    }\n",
              "\n",
              "    .dataframe tbody tr th {\n",
              "        vertical-align: top;\n",
              "    }\n",
              "\n",
              "    .dataframe thead th {\n",
              "        text-align: right;\n",
              "    }\n",
              "</style>\n",
              "<table border=\"1\" class=\"dataframe\">\n",
              "  <thead>\n",
              "    <tr style=\"text-align: right;\">\n",
              "      <th></th>\n",
              "      <th>item_id</th>\n",
              "      <th>store_id</th>\n",
              "      <th>Quantity_sold</th>\n",
              "      <th>sell_price</th>\n",
              "      <th>wday</th>\n",
              "      <th>month</th>\n",
              "      <th>year</th>\n",
              "      <th>mrp</th>\n",
              "      <th>discount</th>\n",
              "      <th>week_number</th>\n",
              "      <th>event_name_1</th>\n",
              "    </tr>\n",
              "  </thead>\n",
              "  <tbody>\n",
              "    <tr>\n",
              "      <th>0</th>\n",
              "      <td>FOODS_1_001</td>\n",
              "      <td>CA_1</td>\n",
              "      <td>3</td>\n",
              "      <td>2.000000</td>\n",
              "      <td>1</td>\n",
              "      <td>1</td>\n",
              "      <td>2011</td>\n",
              "      <td>2.000000</td>\n",
              "      <td>0.0</td>\n",
              "      <td>4</td>\n",
              "      <td>NaN</td>\n",
              "    </tr>\n",
              "    <tr>\n",
              "      <th>1</th>\n",
              "      <td>FOODS_1_001</td>\n",
              "      <td>CA_1</td>\n",
              "      <td>0</td>\n",
              "      <td>2.000000</td>\n",
              "      <td>2</td>\n",
              "      <td>1</td>\n",
              "      <td>2011</td>\n",
              "      <td>2.000000</td>\n",
              "      <td>0.0</td>\n",
              "      <td>4</td>\n",
              "      <td>NaN</td>\n",
              "    </tr>\n",
              "    <tr>\n",
              "      <th>2</th>\n",
              "      <td>FOODS_1_001</td>\n",
              "      <td>CA_1</td>\n",
              "      <td>0</td>\n",
              "      <td>2.000000</td>\n",
              "      <td>3</td>\n",
              "      <td>1</td>\n",
              "      <td>2011</td>\n",
              "      <td>2.000000</td>\n",
              "      <td>0.0</td>\n",
              "      <td>5</td>\n",
              "      <td>NaN</td>\n",
              "    </tr>\n",
              "    <tr>\n",
              "      <th>3</th>\n",
              "      <td>FOODS_1_001</td>\n",
              "      <td>CA_1</td>\n",
              "      <td>1</td>\n",
              "      <td>2.000000</td>\n",
              "      <td>4</td>\n",
              "      <td>2</td>\n",
              "      <td>2011</td>\n",
              "      <td>2.000000</td>\n",
              "      <td>0.0</td>\n",
              "      <td>5</td>\n",
              "      <td>NaN</td>\n",
              "    </tr>\n",
              "    <tr>\n",
              "      <th>4</th>\n",
              "      <td>FOODS_1_001</td>\n",
              "      <td>CA_1</td>\n",
              "      <td>4</td>\n",
              "      <td>2.000000</td>\n",
              "      <td>5</td>\n",
              "      <td>2</td>\n",
              "      <td>2011</td>\n",
              "      <td>2.000000</td>\n",
              "      <td>0.0</td>\n",
              "      <td>5</td>\n",
              "      <td>NaN</td>\n",
              "    </tr>\n",
              "    <tr>\n",
              "      <th>...</th>\n",
              "      <td>...</td>\n",
              "      <td>...</td>\n",
              "      <td>...</td>\n",
              "      <td>...</td>\n",
              "      <td>...</td>\n",
              "      <td>...</td>\n",
              "      <td>...</td>\n",
              "      <td>...</td>\n",
              "      <td>...</td>\n",
              "      <td>...</td>\n",
              "      <td>...</td>\n",
              "    </tr>\n",
              "    <tr>\n",
              "      <th>3530733</th>\n",
              "      <td>FOODS_1_219</td>\n",
              "      <td>WI_3</td>\n",
              "      <td>0</td>\n",
              "      <td>2.240234</td>\n",
              "      <td>5</td>\n",
              "      <td>4</td>\n",
              "      <td>2016</td>\n",
              "      <td>2.240234</td>\n",
              "      <td>0.0</td>\n",
              "      <td>16</td>\n",
              "      <td>NaN</td>\n",
              "    </tr>\n",
              "    <tr>\n",
              "      <th>3530734</th>\n",
              "      <td>FOODS_1_219</td>\n",
              "      <td>WI_3</td>\n",
              "      <td>2</td>\n",
              "      <td>2.240234</td>\n",
              "      <td>6</td>\n",
              "      <td>4</td>\n",
              "      <td>2016</td>\n",
              "      <td>2.240234</td>\n",
              "      <td>0.0</td>\n",
              "      <td>16</td>\n",
              "      <td>NaN</td>\n",
              "    </tr>\n",
              "    <tr>\n",
              "      <th>3530735</th>\n",
              "      <td>FOODS_1_219</td>\n",
              "      <td>WI_3</td>\n",
              "      <td>2</td>\n",
              "      <td>2.240234</td>\n",
              "      <td>7</td>\n",
              "      <td>4</td>\n",
              "      <td>2016</td>\n",
              "      <td>2.240234</td>\n",
              "      <td>0.0</td>\n",
              "      <td>16</td>\n",
              "      <td>NaN</td>\n",
              "    </tr>\n",
              "    <tr>\n",
              "      <th>3530736</th>\n",
              "      <td>FOODS_1_219</td>\n",
              "      <td>WI_3</td>\n",
              "      <td>2</td>\n",
              "      <td>2.240234</td>\n",
              "      <td>1</td>\n",
              "      <td>4</td>\n",
              "      <td>2016</td>\n",
              "      <td>2.240234</td>\n",
              "      <td>0.0</td>\n",
              "      <td>16</td>\n",
              "      <td>NaN</td>\n",
              "    </tr>\n",
              "    <tr>\n",
              "      <th>3530737</th>\n",
              "      <td>FOODS_1_219</td>\n",
              "      <td>WI_3</td>\n",
              "      <td>5</td>\n",
              "      <td>2.240234</td>\n",
              "      <td>2</td>\n",
              "      <td>4</td>\n",
              "      <td>2016</td>\n",
              "      <td>2.240234</td>\n",
              "      <td>0.0</td>\n",
              "      <td>16</td>\n",
              "      <td>NaN</td>\n",
              "    </tr>\n",
              "  </tbody>\n",
              "</table>\n",
              "<p>3530738 rows × 11 columns</p>\n",
              "</div>"
            ],
            "text/plain": [
              "             item_id store_id  ...  week_number  event_name_1\n",
              "0        FOODS_1_001     CA_1  ...            4           NaN\n",
              "1        FOODS_1_001     CA_1  ...            4           NaN\n",
              "2        FOODS_1_001     CA_1  ...            5           NaN\n",
              "3        FOODS_1_001     CA_1  ...            5           NaN\n",
              "4        FOODS_1_001     CA_1  ...            5           NaN\n",
              "...              ...      ...  ...          ...           ...\n",
              "3530733  FOODS_1_219     WI_3  ...           16           NaN\n",
              "3530734  FOODS_1_219     WI_3  ...           16           NaN\n",
              "3530735  FOODS_1_219     WI_3  ...           16           NaN\n",
              "3530736  FOODS_1_219     WI_3  ...           16           NaN\n",
              "3530737  FOODS_1_219     WI_3  ...           16           NaN\n",
              "\n",
              "[3530738 rows x 11 columns]"
            ]
          },
          "metadata": {
            "tags": []
          },
          "execution_count": 10
        }
      ]
    },
    {
      "cell_type": "code",
      "metadata": {
        "id": "C9NpcxXM7DkN",
        "colab_type": "code",
        "colab": {}
      },
      "source": [
        "import xgboost as xgb\n",
        "from sklearn.metrics import mean_squared_error"
      ],
      "execution_count": null,
      "outputs": []
    },
    {
      "cell_type": "code",
      "metadata": {
        "id": "hHPIx_UT_8Dg",
        "colab_type": "code",
        "colab": {}
      },
      "source": [
        "y = food_try['Quantity_sold']\n",
        "X = food_try.drop('Quantity_sold', axis=1)"
      ],
      "execution_count": null,
      "outputs": []
    },
    {
      "cell_type": "code",
      "metadata": {
        "id": "PEiPfrxoMMuX",
        "colab_type": "code",
        "colab": {}
      },
      "source": [
        "X.fillna('none', inplace=True)"
      ],
      "execution_count": null,
      "outputs": []
    },
    {
      "cell_type": "code",
      "metadata": {
        "id": "dzFkJpmd-Ha4",
        "colab_type": "code",
        "colab": {}
      },
      "source": [
        "del food"
      ],
      "execution_count": null,
      "outputs": []
    },
    {
      "cell_type": "markdown",
      "metadata": {
        "id": "NGoINt3W9jly",
        "colab_type": "text"
      },
      "source": [
        "Directly running the below cell on food df also crashes. So I am running it for X"
      ]
    },
    {
      "cell_type": "code",
      "metadata": {
        "id": "1X1NRw2NGd3X",
        "colab_type": "code",
        "colab": {}
      },
      "source": [
        "#X = X.loc[:, ~X.columns.str.contains('^Unnamed')]"
      ],
      "execution_count": null,
      "outputs": []
    },
    {
      "cell_type": "code",
      "metadata": {
        "id": "kH59SJJAGhuJ",
        "colab_type": "code",
        "colab": {
          "base_uri": "https://localhost:8080/",
          "height": 424
        },
        "outputId": "dc10fa8e-811b-4239-be4f-179a0e3b09b7"
      },
      "source": [
        "X"
      ],
      "execution_count": null,
      "outputs": [
        {
          "output_type": "execute_result",
          "data": {
            "text/html": [
              "<div>\n",
              "<style scoped>\n",
              "    .dataframe tbody tr th:only-of-type {\n",
              "        vertical-align: middle;\n",
              "    }\n",
              "\n",
              "    .dataframe tbody tr th {\n",
              "        vertical-align: top;\n",
              "    }\n",
              "\n",
              "    .dataframe thead th {\n",
              "        text-align: right;\n",
              "    }\n",
              "</style>\n",
              "<table border=\"1\" class=\"dataframe\">\n",
              "  <thead>\n",
              "    <tr style=\"text-align: right;\">\n",
              "      <th></th>\n",
              "      <th>item_id</th>\n",
              "      <th>store_id</th>\n",
              "      <th>sell_price</th>\n",
              "      <th>wday</th>\n",
              "      <th>month</th>\n",
              "      <th>year</th>\n",
              "      <th>mrp</th>\n",
              "      <th>discount</th>\n",
              "      <th>week_number</th>\n",
              "      <th>event_name_1</th>\n",
              "    </tr>\n",
              "  </thead>\n",
              "  <tbody>\n",
              "    <tr>\n",
              "      <th>0</th>\n",
              "      <td>FOODS_1_001</td>\n",
              "      <td>CA_1</td>\n",
              "      <td>2.000000</td>\n",
              "      <td>1</td>\n",
              "      <td>1</td>\n",
              "      <td>2011</td>\n",
              "      <td>2.000000</td>\n",
              "      <td>0.0</td>\n",
              "      <td>4</td>\n",
              "      <td>none</td>\n",
              "    </tr>\n",
              "    <tr>\n",
              "      <th>1</th>\n",
              "      <td>FOODS_1_001</td>\n",
              "      <td>CA_1</td>\n",
              "      <td>2.000000</td>\n",
              "      <td>2</td>\n",
              "      <td>1</td>\n",
              "      <td>2011</td>\n",
              "      <td>2.000000</td>\n",
              "      <td>0.0</td>\n",
              "      <td>4</td>\n",
              "      <td>none</td>\n",
              "    </tr>\n",
              "    <tr>\n",
              "      <th>2</th>\n",
              "      <td>FOODS_1_001</td>\n",
              "      <td>CA_1</td>\n",
              "      <td>2.000000</td>\n",
              "      <td>3</td>\n",
              "      <td>1</td>\n",
              "      <td>2011</td>\n",
              "      <td>2.000000</td>\n",
              "      <td>0.0</td>\n",
              "      <td>5</td>\n",
              "      <td>none</td>\n",
              "    </tr>\n",
              "    <tr>\n",
              "      <th>3</th>\n",
              "      <td>FOODS_1_001</td>\n",
              "      <td>CA_1</td>\n",
              "      <td>2.000000</td>\n",
              "      <td>4</td>\n",
              "      <td>2</td>\n",
              "      <td>2011</td>\n",
              "      <td>2.000000</td>\n",
              "      <td>0.0</td>\n",
              "      <td>5</td>\n",
              "      <td>none</td>\n",
              "    </tr>\n",
              "    <tr>\n",
              "      <th>4</th>\n",
              "      <td>FOODS_1_001</td>\n",
              "      <td>CA_1</td>\n",
              "      <td>2.000000</td>\n",
              "      <td>5</td>\n",
              "      <td>2</td>\n",
              "      <td>2011</td>\n",
              "      <td>2.000000</td>\n",
              "      <td>0.0</td>\n",
              "      <td>5</td>\n",
              "      <td>none</td>\n",
              "    </tr>\n",
              "    <tr>\n",
              "      <th>...</th>\n",
              "      <td>...</td>\n",
              "      <td>...</td>\n",
              "      <td>...</td>\n",
              "      <td>...</td>\n",
              "      <td>...</td>\n",
              "      <td>...</td>\n",
              "      <td>...</td>\n",
              "      <td>...</td>\n",
              "      <td>...</td>\n",
              "      <td>...</td>\n",
              "    </tr>\n",
              "    <tr>\n",
              "      <th>3530733</th>\n",
              "      <td>FOODS_1_219</td>\n",
              "      <td>WI_3</td>\n",
              "      <td>2.240234</td>\n",
              "      <td>5</td>\n",
              "      <td>4</td>\n",
              "      <td>2016</td>\n",
              "      <td>2.240234</td>\n",
              "      <td>0.0</td>\n",
              "      <td>16</td>\n",
              "      <td>none</td>\n",
              "    </tr>\n",
              "    <tr>\n",
              "      <th>3530734</th>\n",
              "      <td>FOODS_1_219</td>\n",
              "      <td>WI_3</td>\n",
              "      <td>2.240234</td>\n",
              "      <td>6</td>\n",
              "      <td>4</td>\n",
              "      <td>2016</td>\n",
              "      <td>2.240234</td>\n",
              "      <td>0.0</td>\n",
              "      <td>16</td>\n",
              "      <td>none</td>\n",
              "    </tr>\n",
              "    <tr>\n",
              "      <th>3530735</th>\n",
              "      <td>FOODS_1_219</td>\n",
              "      <td>WI_3</td>\n",
              "      <td>2.240234</td>\n",
              "      <td>7</td>\n",
              "      <td>4</td>\n",
              "      <td>2016</td>\n",
              "      <td>2.240234</td>\n",
              "      <td>0.0</td>\n",
              "      <td>16</td>\n",
              "      <td>none</td>\n",
              "    </tr>\n",
              "    <tr>\n",
              "      <th>3530736</th>\n",
              "      <td>FOODS_1_219</td>\n",
              "      <td>WI_3</td>\n",
              "      <td>2.240234</td>\n",
              "      <td>1</td>\n",
              "      <td>4</td>\n",
              "      <td>2016</td>\n",
              "      <td>2.240234</td>\n",
              "      <td>0.0</td>\n",
              "      <td>16</td>\n",
              "      <td>none</td>\n",
              "    </tr>\n",
              "    <tr>\n",
              "      <th>3530737</th>\n",
              "      <td>FOODS_1_219</td>\n",
              "      <td>WI_3</td>\n",
              "      <td>2.240234</td>\n",
              "      <td>2</td>\n",
              "      <td>4</td>\n",
              "      <td>2016</td>\n",
              "      <td>2.240234</td>\n",
              "      <td>0.0</td>\n",
              "      <td>16</td>\n",
              "      <td>none</td>\n",
              "    </tr>\n",
              "  </tbody>\n",
              "</table>\n",
              "<p>3530738 rows × 10 columns</p>\n",
              "</div>"
            ],
            "text/plain": [
              "             item_id store_id  sell_price  ...  discount  week_number  event_name_1\n",
              "0        FOODS_1_001     CA_1    2.000000  ...       0.0            4          none\n",
              "1        FOODS_1_001     CA_1    2.000000  ...       0.0            4          none\n",
              "2        FOODS_1_001     CA_1    2.000000  ...       0.0            5          none\n",
              "3        FOODS_1_001     CA_1    2.000000  ...       0.0            5          none\n",
              "4        FOODS_1_001     CA_1    2.000000  ...       0.0            5          none\n",
              "...              ...      ...         ...  ...       ...          ...           ...\n",
              "3530733  FOODS_1_219     WI_3    2.240234  ...       0.0           16          none\n",
              "3530734  FOODS_1_219     WI_3    2.240234  ...       0.0           16          none\n",
              "3530735  FOODS_1_219     WI_3    2.240234  ...       0.0           16          none\n",
              "3530736  FOODS_1_219     WI_3    2.240234  ...       0.0           16          none\n",
              "3530737  FOODS_1_219     WI_3    2.240234  ...       0.0           16          none\n",
              "\n",
              "[3530738 rows x 10 columns]"
            ]
          },
          "metadata": {
            "tags": []
          },
          "execution_count": 15
        }
      ]
    },
    {
      "cell_type": "code",
      "metadata": {
        "id": "lwXi7Hsc73w6",
        "colab_type": "code",
        "colab": {
          "base_uri": "https://localhost:8080/",
          "height": 1000
        },
        "outputId": "f2e59119-028f-4e21-bbf8-57378a5e06dc"
      },
      "source": [
        "from sklearn.preprocessing import LabelEncoder\n",
        "from collections import defaultdict\n",
        "d = defaultdict(LabelEncoder)\n",
        "categorical_mask = (X.dtypes == object)\n",
        "categorical_columns = X.columns[categorical_mask].tolist()\n",
        "\n",
        "le = LabelEncoder()\n",
        "for cat in categorical_columns:\n",
        "    le.fit(X[cat])\n",
        "    print(le.classes_)\n",
        "    X[cat]=le.transform(X[cat])\n",
        "\n",
        "print(X[categorical_columns].head())"
      ],
      "execution_count": null,
      "outputs": [
        {
          "output_type": "stream",
          "text": [
            "['FOODS_1_001' 'FOODS_1_002' 'FOODS_1_003' 'FOODS_1_004' 'FOODS_1_005'\n",
            " 'FOODS_1_006' 'FOODS_1_008' 'FOODS_1_009' 'FOODS_1_010' 'FOODS_1_011'\n",
            " 'FOODS_1_012' 'FOODS_1_013' 'FOODS_1_014' 'FOODS_1_015' 'FOODS_1_016'\n",
            " 'FOODS_1_017' 'FOODS_1_018' 'FOODS_1_019' 'FOODS_1_020' 'FOODS_1_021'\n",
            " 'FOODS_1_022' 'FOODS_1_023' 'FOODS_1_024' 'FOODS_1_025' 'FOODS_1_026'\n",
            " 'FOODS_1_027' 'FOODS_1_028' 'FOODS_1_029' 'FOODS_1_030' 'FOODS_1_031'\n",
            " 'FOODS_1_032' 'FOODS_1_033' 'FOODS_1_034' 'FOODS_1_035' 'FOODS_1_036'\n",
            " 'FOODS_1_037' 'FOODS_1_038' 'FOODS_1_039' 'FOODS_1_040' 'FOODS_1_041'\n",
            " 'FOODS_1_042' 'FOODS_1_043' 'FOODS_1_044' 'FOODS_1_045' 'FOODS_1_046'\n",
            " 'FOODS_1_047' 'FOODS_1_048' 'FOODS_1_049' 'FOODS_1_050' 'FOODS_1_051'\n",
            " 'FOODS_1_052' 'FOODS_1_053' 'FOODS_1_054' 'FOODS_1_055' 'FOODS_1_056'\n",
            " 'FOODS_1_057' 'FOODS_1_058' 'FOODS_1_059' 'FOODS_1_060' 'FOODS_1_061'\n",
            " 'FOODS_1_062' 'FOODS_1_063' 'FOODS_1_064' 'FOODS_1_065' 'FOODS_1_066'\n",
            " 'FOODS_1_067' 'FOODS_1_068' 'FOODS_1_069' 'FOODS_1_070' 'FOODS_1_071'\n",
            " 'FOODS_1_072' 'FOODS_1_073' 'FOODS_1_074' 'FOODS_1_075' 'FOODS_1_076'\n",
            " 'FOODS_1_077' 'FOODS_1_078' 'FOODS_1_079' 'FOODS_1_080' 'FOODS_1_081'\n",
            " 'FOODS_1_082' 'FOODS_1_083' 'FOODS_1_084' 'FOODS_1_085' 'FOODS_1_086'\n",
            " 'FOODS_1_087' 'FOODS_1_088' 'FOODS_1_089' 'FOODS_1_090' 'FOODS_1_091'\n",
            " 'FOODS_1_092' 'FOODS_1_093' 'FOODS_1_094' 'FOODS_1_095' 'FOODS_1_096'\n",
            " 'FOODS_1_097' 'FOODS_1_098' 'FOODS_1_099' 'FOODS_1_101' 'FOODS_1_102'\n",
            " 'FOODS_1_103' 'FOODS_1_104' 'FOODS_1_105' 'FOODS_1_106' 'FOODS_1_107'\n",
            " 'FOODS_1_108' 'FOODS_1_109' 'FOODS_1_110' 'FOODS_1_111' 'FOODS_1_112'\n",
            " 'FOODS_1_113' 'FOODS_1_114' 'FOODS_1_115' 'FOODS_1_116' 'FOODS_1_117'\n",
            " 'FOODS_1_118' 'FOODS_1_119' 'FOODS_1_120' 'FOODS_1_121' 'FOODS_1_122'\n",
            " 'FOODS_1_123' 'FOODS_1_124' 'FOODS_1_125' 'FOODS_1_126' 'FOODS_1_127'\n",
            " 'FOODS_1_128' 'FOODS_1_129' 'FOODS_1_130' 'FOODS_1_131' 'FOODS_1_132'\n",
            " 'FOODS_1_133' 'FOODS_1_134' 'FOODS_1_135' 'FOODS_1_136' 'FOODS_1_137'\n",
            " 'FOODS_1_138' 'FOODS_1_139' 'FOODS_1_140' 'FOODS_1_141' 'FOODS_1_142'\n",
            " 'FOODS_1_143' 'FOODS_1_144' 'FOODS_1_145' 'FOODS_1_146' 'FOODS_1_147'\n",
            " 'FOODS_1_148' 'FOODS_1_149' 'FOODS_1_150' 'FOODS_1_151' 'FOODS_1_152'\n",
            " 'FOODS_1_153' 'FOODS_1_154' 'FOODS_1_155' 'FOODS_1_156' 'FOODS_1_157'\n",
            " 'FOODS_1_158' 'FOODS_1_159' 'FOODS_1_160' 'FOODS_1_161' 'FOODS_1_162'\n",
            " 'FOODS_1_163' 'FOODS_1_164' 'FOODS_1_166' 'FOODS_1_167' 'FOODS_1_168'\n",
            " 'FOODS_1_169' 'FOODS_1_170' 'FOODS_1_171' 'FOODS_1_172' 'FOODS_1_173'\n",
            " 'FOODS_1_174' 'FOODS_1_175' 'FOODS_1_176' 'FOODS_1_177' 'FOODS_1_178'\n",
            " 'FOODS_1_179' 'FOODS_1_180' 'FOODS_1_181' 'FOODS_1_182' 'FOODS_1_183'\n",
            " 'FOODS_1_184' 'FOODS_1_185' 'FOODS_1_186' 'FOODS_1_187' 'FOODS_1_188'\n",
            " 'FOODS_1_189' 'FOODS_1_190' 'FOODS_1_191' 'FOODS_1_192' 'FOODS_1_193'\n",
            " 'FOODS_1_194' 'FOODS_1_195' 'FOODS_1_196' 'FOODS_1_197' 'FOODS_1_198'\n",
            " 'FOODS_1_199' 'FOODS_1_200' 'FOODS_1_201' 'FOODS_1_202' 'FOODS_1_203'\n",
            " 'FOODS_1_204' 'FOODS_1_205' 'FOODS_1_206' 'FOODS_1_207' 'FOODS_1_208'\n",
            " 'FOODS_1_209' 'FOODS_1_210' 'FOODS_1_211' 'FOODS_1_212' 'FOODS_1_213'\n",
            " 'FOODS_1_214' 'FOODS_1_215' 'FOODS_1_216' 'FOODS_1_217' 'FOODS_1_218'\n",
            " 'FOODS_1_219']\n",
            "['CA_1' 'CA_2' 'CA_3' 'CA_4' 'TX_1' 'TX_2' 'TX_3' 'WI_1' 'WI_2' 'WI_3']\n",
            "['Chanukah End' 'Christmas' 'Cinco De Mayo' 'ColumbusDay' 'Easter'\n",
            " 'Eid al-Fitr' 'EidAlAdha' \"Father's day\" 'Halloween' 'IndependenceDay'\n",
            " 'LaborDay' 'LentStart' 'LentWeek2' 'MartinLutherKingDay' 'MemorialDay'\n",
            " \"Mother's day\" 'NBAFinalsEnd' 'NBAFinalsStart' 'NewYear'\n",
            " 'OrthodoxChristmas' 'OrthodoxEaster' 'Pesach End' 'PresidentsDay'\n",
            " 'Purim End' 'Ramadan starts' 'StPatricksDay' 'SuperBowl' 'Thanksgiving'\n",
            " 'ValentinesDay' 'VeteransDay' 'none']\n",
            "   item_id  store_id  event_name_1\n",
            "0        0         0            30\n",
            "1        0         0            30\n",
            "2        0         0            30\n",
            "3        0         0            30\n",
            "4        0         0            30\n"
          ],
          "name": "stdout"
        }
      ]
    },
    {
      "cell_type": "markdown",
      "metadata": {
        "id": "hbQ37kqIJK4N",
        "colab_type": "text"
      },
      "source": [
        "As per what I read, one hot encoding would be needed for the store_id, and item_id variables, since the numbers assigned to them have no special significance and ordering between them would hurt performance.\n",
        "\n",
        "For now I am skipping date for two reasons:\n",
        "1. There are 1919 dates, one hot encoding would be too expensive\n",
        "2. There are time series data, and for them order might help"
      ]
    },
    {
      "cell_type": "code",
      "metadata": {
        "id": "XPyoY7Q9J5Wn",
        "colab_type": "code",
        "colab": {
          "base_uri": "https://localhost:8080/",
          "height": 34
        },
        "outputId": "2d29db64-d5ed-4f5f-b733-4a18121fd1e8"
      },
      "source": [
        "X.shape"
      ],
      "execution_count": null,
      "outputs": [
        {
          "output_type": "execute_result",
          "data": {
            "text/plain": [
              "(3530738, 10)"
            ]
          },
          "metadata": {
            "tags": []
          },
          "execution_count": 17
        }
      ]
    },
    {
      "cell_type": "markdown",
      "metadata": {
        "id": "u1HBYO7b_DRv",
        "colab_type": "text"
      },
      "source": [
        "Skip the next three cells also and try"
      ]
    },
    {
      "cell_type": "code",
      "metadata": {
        "id": "mN9nb84LJ5Te",
        "colab_type": "code",
        "colab": {}
      },
      "source": [
        "from sklearn.preprocessing import OneHotEncoder\n",
        " \n",
        "ohe = OneHotEncoder(categories='auto', sparse=True)\n",
        " \n",
        "# After applying one hot encoder, the output is no longer a data frame\n",
        "X_encoded = ohe.fit_transform(X)"
      ],
      "execution_count": null,
      "outputs": []
    },
    {
      "cell_type": "code",
      "metadata": {
        "id": "xN47ExLcOWb0",
        "colab_type": "code",
        "colab": {
          "base_uri": "https://localhost:8080/",
          "height": 34
        },
        "outputId": "076bedb5-6162-4ffb-ad6d-9fdf81248821"
      },
      "source": [
        "X.shape"
      ],
      "execution_count": null,
      "outputs": [
        {
          "output_type": "execute_result",
          "data": {
            "text/plain": [
              "(3530738, 10)"
            ]
          },
          "metadata": {
            "tags": []
          },
          "execution_count": 19
        }
      ]
    },
    {
      "cell_type": "code",
      "metadata": {
        "id": "CUmvJF21OYw1",
        "colab_type": "code",
        "colab": {
          "base_uri": "https://localhost:8080/",
          "height": 34
        },
        "outputId": "6f476dbf-0516-4433-ac7e-72f4cf5e5384"
      },
      "source": [
        "X_encoded.shape"
      ],
      "execution_count": null,
      "outputs": [
        {
          "output_type": "execute_result",
          "data": {
            "text/plain": [
              "(3530738, 1365)"
            ]
          },
          "metadata": {
            "tags": []
          },
          "execution_count": 20
        }
      ]
    },
    {
      "cell_type": "markdown",
      "metadata": {
        "id": "Vg6sxc-x_G9j",
        "colab_type": "text"
      },
      "source": [
        "Try again from here"
      ]
    },
    {
      "cell_type": "code",
      "metadata": {
        "id": "zjaDGaeGObJ6",
        "colab_type": "code",
        "colab": {}
      },
      "source": [
        "from sklearn.model_selection import train_test_split\n",
        "from sklearn.metrics import accuracy_score"
      ],
      "execution_count": null,
      "outputs": []
    },
    {
      "cell_type": "code",
      "metadata": {
        "id": "Uz74cORwObF7",
        "colab_type": "code",
        "colab": {}
      },
      "source": [
        "seed = 43\n",
        "X_train, X_test, y_train, y_test = train_test_split(X, y, test_size=0.10, random_state=seed)"
      ],
      "execution_count": null,
      "outputs": []
    },
    {
      "cell_type": "markdown",
      "metadata": {
        "id": "gikzi7cC9aUP",
        "colab_type": "text"
      },
      "source": [
        "One hot encoding accuracy = 25.88%\n",
        "\n",
        "only label encoding = 38.45%"
      ]
    },
    {
      "cell_type": "code",
      "metadata": {
        "id": "8LntfZDHObEb",
        "colab_type": "code",
        "colab": {
          "base_uri": "https://localhost:8080/",
          "height": 156
        },
        "outputId": "a5b833b5-e042-4060-8009-dbf54c10b85c"
      },
      "source": [
        "# fit model no training data\n",
        "model = xgb.XGBRegressor(n_estimators=100, max_depth=10)\n",
        "model.fit(X_train, y_train)"
      ],
      "execution_count": null,
      "outputs": [
        {
          "output_type": "stream",
          "text": [
            "[14:24:33] WARNING: /workspace/src/objective/regression_obj.cu:152: reg:linear is now deprecated in favor of reg:squarederror.\n"
          ],
          "name": "stdout"
        },
        {
          "output_type": "execute_result",
          "data": {
            "text/plain": [
              "XGBRegressor(base_score=0.5, booster='gbtree', colsample_bylevel=1,\n",
              "             colsample_bynode=1, colsample_bytree=1, gamma=0,\n",
              "             importance_type='gain', learning_rate=0.1, max_delta_step=0,\n",
              "             max_depth=10, min_child_weight=1, missing=None, n_estimators=100,\n",
              "             n_jobs=1, nthread=None, objective='reg:linear', random_state=0,\n",
              "             reg_alpha=0, reg_lambda=1, scale_pos_weight=1, seed=None,\n",
              "             silent=None, subsample=1, verbosity=1)"
            ]
          },
          "metadata": {
            "tags": []
          },
          "execution_count": 28
        }
      ]
    },
    {
      "cell_type": "code",
      "metadata": {
        "id": "cHnmjn-fObA5",
        "colab_type": "code",
        "colab": {
          "base_uri": "https://localhost:8080/",
          "height": 34
        },
        "outputId": "d765dc07-744b-4fe0-d2e0-8b896005f2cd"
      },
      "source": [
        "y_pred = model.predict(X_test)\n",
        "predictions = [round(value) for value in y_pred]\n",
        "# evaluate predictions\n",
        "accuracy = accuracy_score(y_test, predictions)\n",
        "print(\"Accuracy: %.2f%%\" % (accuracy * 100.0))"
      ],
      "execution_count": null,
      "outputs": [
        {
          "output_type": "stream",
          "text": [
            "Accuracy: 38.45%\n"
          ],
          "name": "stdout"
        }
      ]
    },
    {
      "cell_type": "code",
      "metadata": {
        "id": "8i5qFw9c64Ck",
        "colab_type": "code",
        "colab": {
          "base_uri": "https://localhost:8080/",
          "height": 34
        },
        "outputId": "558e1ea9-5200-4900-f32a-ba0f6a7c7888"
      },
      "source": [
        "print(y_pred)"
      ],
      "execution_count": null,
      "outputs": [
        {
          "output_type": "stream",
          "text": [
            "[0.83422804 2.2923274  0.7298737  ... 0.47951704 0.34490734 0.8183894 ]\n"
          ],
          "name": "stdout"
        }
      ]
    },
    {
      "cell_type": "code",
      "metadata": {
        "id": "Gq7WD-vr638l",
        "colab_type": "code",
        "colab": {
          "base_uri": "https://localhost:8080/",
          "height": 225
        },
        "outputId": "82ae3519-cecf-4ee9-ecce-bf5e945eb456"
      },
      "source": [
        "print(y_test)"
      ],
      "execution_count": null,
      "outputs": [
        {
          "output_type": "stream",
          "text": [
            "1037717    1\n",
            "727555     2\n",
            "1026395    1\n",
            "530341     0\n",
            "380315     2\n",
            "          ..\n",
            "642213     0\n",
            "203028     2\n",
            "626629     0\n",
            "471788     1\n",
            "340520     0\n",
            "Name: Quantity_sold, Length: 106481, dtype: int16\n"
          ],
          "name": "stdout"
        }
      ]
    },
    {
      "cell_type": "code",
      "metadata": {
        "id": "yCOxyWwZ-3WO",
        "colab_type": "code",
        "colab": {}
      },
      "source": [
        "from sklearn.model_selection import RandomizedSearchCV, GridSearchCV\n",
        "from sklearn.metrics import mean_absolute_error\n",
        "from sklearn.model_selection import StratifiedKFold"
      ],
      "execution_count": null,
      "outputs": []
    },
    {
      "cell_type": "code",
      "metadata": {
        "id": "hjOmDBj3-3SB",
        "colab_type": "code",
        "colab": {}
      },
      "source": [
        "params = {\n",
        "        'min_child_weight': [1, 5, 10],\n",
        "        'gamma': [0.5, 1, 1.5, 2, 5],\n",
        "        'subsample': [0.6, 0.8, 1.0],\n",
        "        'colsample_bytree': [0.6, 0.8, 1.0],\n",
        "        'max_depth': [3, 6, 9]\n",
        "        }"
      ],
      "execution_count": null,
      "outputs": []
    },
    {
      "cell_type": "code",
      "metadata": {
        "id": "tyGl6iLw-3Os",
        "colab_type": "code",
        "colab": {}
      },
      "source": [
        "param_comb = 50\n",
        "random_search = RandomizedSearchCV(estimator=model, param_distributions=params, n_iter=param_comb, scoring='neg_mean_absolute_error' , n_jobs=-1, random_state=43, verbose=3)"
      ],
      "execution_count": null,
      "outputs": []
    },
    {
      "cell_type": "code",
      "metadata": {
        "id": "9gt794jw_i4L",
        "colab_type": "code",
        "colab": {
          "base_uri": "https://localhost:8080/",
          "height": 52
        },
        "outputId": "0c730aa9-9cd9-4299-e7db-8aaa44cc03be"
      },
      "source": [
        "random_search.fit(X_train, y_train)"
      ],
      "execution_count": null,
      "outputs": [
        {
          "output_type": "stream",
          "text": [
            "Fitting 5 folds for each of 50 candidates, totalling 250 fits\n"
          ],
          "name": "stdout"
        },
        {
          "output_type": "stream",
          "text": [
            "[Parallel(n_jobs=-1)]: Using backend LokyBackend with 2 concurrent workers.\n"
          ],
          "name": "stderr"
        }
      ]
    },
    {
      "cell_type": "code",
      "metadata": {
        "id": "-x6ZueK5_i0p",
        "colab_type": "code",
        "colab": {}
      },
      "source": [
        ""
      ],
      "execution_count": null,
      "outputs": []
    },
    {
      "cell_type": "code",
      "metadata": {
        "id": "Y-2fI4OZ_ixK",
        "colab_type": "code",
        "colab": {}
      },
      "source": [
        ""
      ],
      "execution_count": null,
      "outputs": []
    },
    {
      "cell_type": "code",
      "metadata": {
        "id": "7V5h3eZN_iuL",
        "colab_type": "code",
        "colab": {}
      },
      "source": [
        ""
      ],
      "execution_count": null,
      "outputs": []
    },
    {
      "cell_type": "code",
      "metadata": {
        "id": "fzhmV61dQih7",
        "colab_type": "code",
        "colab": {}
      },
      "source": [
        "def eval_results(yhat_mean, y):\n",
        "    temp_dict = {}\n",
        "    temp_dict['MAD'] = np.nanmean(np.abs(y - yhat_mean))\n",
        "    temp_dict['MSE'] = np.nanmean(np.square(y - yhat_mean))\n",
        "    temp_dict['WMAPE'] = np.nansum(np.abs(y - yhat_mean)) / np.nansum(y)\n",
        "    temp_dict['MD'] = np.nanmean(y - yhat_mean)\n",
        "    temp_dict['mean'] = np.nanmean(y)\n",
        "    temp_dict['SMAPE'] = 100. * np.nanmean(np.abs(y - yhat_mean) / ((np.abs(y) + np.abs(yhat_mean)) / 2.))\n",
        "    # print(temp_dict)\n",
        "    return temp_dict"
      ],
      "execution_count": null,
      "outputs": []
    },
    {
      "cell_type": "code",
      "metadata": {
        "id": "SfdU4YfM50F2",
        "colab_type": "code",
        "colab": {
          "base_uri": "https://localhost:8080/",
          "height": 34
        },
        "outputId": "a10ef077-4ef9-47ca-8ce9-a967f1e2fc28"
      },
      "source": [
        "print(eval_results(y_pred, y_test))"
      ],
      "execution_count": null,
      "outputs": [
        {
          "output_type": "stream",
          "text": [
            "{'MAD': 1.2461338, 'MSE': 5.5681224, 'WMAPE': 0.776171239777952, 'MD': -0.002632901, 'mean': 1.6054883030775444, 'SMAPE': 140.56050351326422}\n"
          ],
          "name": "stdout"
        }
      ]
    },
    {
      "cell_type": "code",
      "metadata": {
        "id": "QgHZo4P550Dv",
        "colab_type": "code",
        "colab": {}
      },
      "source": [
        ""
      ],
      "execution_count": null,
      "outputs": []
    },
    {
      "cell_type": "code",
      "metadata": {
        "id": "p4fHVHpuQidi",
        "colab_type": "code",
        "colab": {
          "base_uri": "https://localhost:8080/",
          "height": 139
        },
        "outputId": "bef29afe-1bd5-46fd-be50-3afc6167bd90"
      },
      "source": [
        "from sklearn.ensemble import RandomForestRegressor\n",
        "\n",
        "regressor = RandomForestRegressor(n_estimators=100, max_depth=5)\n",
        "regressor.fit(X_train, y_train)"
      ],
      "execution_count": null,
      "outputs": [
        {
          "output_type": "execute_result",
          "data": {
            "text/plain": [
              "RandomForestRegressor(bootstrap=True, ccp_alpha=0.0, criterion='mse',\n",
              "                      max_depth=5, max_features='auto', max_leaf_nodes=None,\n",
              "                      max_samples=None, min_impurity_decrease=0.0,\n",
              "                      min_impurity_split=None, min_samples_leaf=1,\n",
              "                      min_samples_split=2, min_weight_fraction_leaf=0.0,\n",
              "                      n_estimators=100, n_jobs=None, oob_score=False,\n",
              "                      random_state=None, verbose=0, warm_start=False)"
            ]
          },
          "metadata": {
            "tags": []
          },
          "execution_count": 33
        }
      ]
    },
    {
      "cell_type": "code",
      "metadata": {
        "id": "KvvBJAAwQicL",
        "colab_type": "code",
        "colab": {
          "base_uri": "https://localhost:8080/",
          "height": 34
        },
        "outputId": "09ff0493-88d5-4e24-b34b-f2112fcde01c"
      },
      "source": [
        "y_pred = regressor.predict(X_test)\n",
        "predictions = [round(value) for value in y_pred]\n",
        "# evaluate predictions\n",
        "accuracy = accuracy_score(y_test, predictions)\n",
        "print(\"Accuracy: %.2f%%\" % (accuracy * 100.0))"
      ],
      "execution_count": null,
      "outputs": [
        {
          "output_type": "stream",
          "text": [
            "Accuracy: 18.57%\n"
          ],
          "name": "stdout"
        }
      ]
    },
    {
      "cell_type": "code",
      "metadata": {
        "id": "aGoc1d3pQiYI",
        "colab_type": "code",
        "colab": {}
      },
      "source": [
        ""
      ],
      "execution_count": null,
      "outputs": []
    },
    {
      "cell_type": "code",
      "metadata": {
        "id": "J7O9kOgpQiVr",
        "colab_type": "code",
        "colab": {}
      },
      "source": [
        ""
      ],
      "execution_count": null,
      "outputs": []
    },
    {
      "cell_type": "code",
      "metadata": {
        "id": "NbeIMz0mOa9y",
        "colab_type": "code",
        "colab": {}
      },
      "source": [
        ""
      ],
      "execution_count": null,
      "outputs": []
    },
    {
      "cell_type": "code",
      "metadata": {
        "id": "fdMgSPjSDvBK",
        "colab_type": "code",
        "colab": {}
      },
      "source": [
        "# imputations and NaN \n",
        "# ordered variable \n",
        "# Random forest regression\n"
      ],
      "execution_count": null,
      "outputs": []
    }
  ]
}